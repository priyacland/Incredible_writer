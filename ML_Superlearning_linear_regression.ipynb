{
  "nbformat": 4,
  "nbformat_minor": 0,
  "metadata": {
    "colab": {
      "name": "ML_Superlearning_linear_regression.ipynb",
      "provenance": [],
      "collapsed_sections": []
    },
    "kernelspec": {
      "name": "python3",
      "display_name": "Python 3"
    },
    "language_info": {
      "name": "python"
    }
  },
  "cells": [
    {
      "cell_type": "code",
      "execution_count": 17,
      "metadata": {
        "id": "-LJm4UBk5Snq"
      },
      "outputs": [],
      "source": [
        "import numpy as np\n",
        "import pandas as pd\n",
        "import matplotlib.pyplot as plt\n",
        "import seaborn as sns"
      ]
    },
    {
      "cell_type": "code",
      "source": [
        "from google.colab import drive\n",
        "drive.mount('/content/drive')"
      ],
      "metadata": {
        "colab": {
          "base_uri": "https://localhost:8080/"
        },
        "id": "dq0f6uku6v4x",
        "outputId": "57fa1406-fdd2-4469-92f6-de9111ea1259"
      },
      "execution_count": 2,
      "outputs": [
        {
          "output_type": "stream",
          "name": "stdout",
          "text": [
            "Mounted at /content/drive\n"
          ]
        }
      ]
    },
    {
      "cell_type": "code",
      "source": [
        "%cd/content/drive/My Drive/Colab Notebooks/csv_practice"
      ],
      "metadata": {
        "colab": {
          "base_uri": "https://localhost:8080/"
        },
        "id": "KRMpQxwI7Qha",
        "outputId": "672f8e3c-7b91-4baf-cf82-ebf40ba02413"
      },
      "execution_count": 3,
      "outputs": [
        {
          "output_type": "stream",
          "name": "stdout",
          "text": [
            "/content/drive/My Drive/Colab Notebooks/csv_practice\n"
          ]
        }
      ]
    },
    {
      "cell_type": "code",
      "source": [
        "saldata=pd.read_csv(\"Salary_Data.csv\")\n",
        "print(saldata)"
      ],
      "metadata": {
        "colab": {
          "base_uri": "https://localhost:8080/"
        },
        "id": "ZDvJuzDD7Upg",
        "outputId": "e292929c-10be-4b53-c31b-4f83498e9ed7"
      },
      "execution_count": 6,
      "outputs": [
        {
          "output_type": "stream",
          "name": "stdout",
          "text": [
            "    YearsExperience  Salary\n",
            "0               1.1   39343\n",
            "1               1.3   46205\n",
            "2               1.5   37731\n",
            "3               2.0   43525\n",
            "4               2.2   39891\n",
            "5               2.9   56642\n",
            "6               3.0   60150\n",
            "7               3.2   54445\n",
            "8               3.2   64445\n",
            "9               3.7   57189\n",
            "10              3.9   63218\n",
            "11              4.0   55794\n",
            "12              4.0   56957\n",
            "13              4.1   57081\n",
            "14              4.5   61111\n",
            "15              4.9   67938\n",
            "16              5.1   66029\n",
            "17              5.3   83088\n",
            "18              5.9   81363\n",
            "19              6.0   93940\n",
            "20              6.8   91738\n",
            "21              7.1   98273\n",
            "22              7.9  101302\n",
            "23              8.2  113812\n",
            "24              8.7  109431\n",
            "25              9.0  105582\n",
            "26              9.5  116969\n",
            "27              9.6  112635\n",
            "28             10.3  122391\n",
            "29             10.5  121872\n"
          ]
        }
      ]
    },
    {
      "cell_type": "code",
      "source": [
        "# ASSIGNED X = INDEPENDENT VARIABLE, Y= DEPENDENT VARIABLE\n",
        "\n",
        "x=saldata.iloc[:,:-1]\n",
        "y=saldata.iloc[:,1]"
      ],
      "metadata": {
        "id": "I_2248t878vV"
      },
      "execution_count": 7,
      "outputs": []
    },
    {
      "cell_type": "code",
      "source": [
        "x"
      ],
      "metadata": {
        "colab": {
          "base_uri": "https://localhost:8080/",
          "height": 990
        },
        "id": "3Pn21G2C8RLK",
        "outputId": "261412f8-8d8a-4b04-f391-a3ed9aec17e0"
      },
      "execution_count": 8,
      "outputs": [
        {
          "output_type": "execute_result",
          "data": {
            "text/plain": [
              "    YearsExperience\n",
              "0               1.1\n",
              "1               1.3\n",
              "2               1.5\n",
              "3               2.0\n",
              "4               2.2\n",
              "5               2.9\n",
              "6               3.0\n",
              "7               3.2\n",
              "8               3.2\n",
              "9               3.7\n",
              "10              3.9\n",
              "11              4.0\n",
              "12              4.0\n",
              "13              4.1\n",
              "14              4.5\n",
              "15              4.9\n",
              "16              5.1\n",
              "17              5.3\n",
              "18              5.9\n",
              "19              6.0\n",
              "20              6.8\n",
              "21              7.1\n",
              "22              7.9\n",
              "23              8.2\n",
              "24              8.7\n",
              "25              9.0\n",
              "26              9.5\n",
              "27              9.6\n",
              "28             10.3\n",
              "29             10.5"
            ],
            "text/html": [
              "\n",
              "  <div id=\"df-08bb8510-c967-4eb1-8273-7a6f4a191d73\">\n",
              "    <div class=\"colab-df-container\">\n",
              "      <div>\n",
              "<style scoped>\n",
              "    .dataframe tbody tr th:only-of-type {\n",
              "        vertical-align: middle;\n",
              "    }\n",
              "\n",
              "    .dataframe tbody tr th {\n",
              "        vertical-align: top;\n",
              "    }\n",
              "\n",
              "    .dataframe thead th {\n",
              "        text-align: right;\n",
              "    }\n",
              "</style>\n",
              "<table border=\"1\" class=\"dataframe\">\n",
              "  <thead>\n",
              "    <tr style=\"text-align: right;\">\n",
              "      <th></th>\n",
              "      <th>YearsExperience</th>\n",
              "    </tr>\n",
              "  </thead>\n",
              "  <tbody>\n",
              "    <tr>\n",
              "      <th>0</th>\n",
              "      <td>1.1</td>\n",
              "    </tr>\n",
              "    <tr>\n",
              "      <th>1</th>\n",
              "      <td>1.3</td>\n",
              "    </tr>\n",
              "    <tr>\n",
              "      <th>2</th>\n",
              "      <td>1.5</td>\n",
              "    </tr>\n",
              "    <tr>\n",
              "      <th>3</th>\n",
              "      <td>2.0</td>\n",
              "    </tr>\n",
              "    <tr>\n",
              "      <th>4</th>\n",
              "      <td>2.2</td>\n",
              "    </tr>\n",
              "    <tr>\n",
              "      <th>5</th>\n",
              "      <td>2.9</td>\n",
              "    </tr>\n",
              "    <tr>\n",
              "      <th>6</th>\n",
              "      <td>3.0</td>\n",
              "    </tr>\n",
              "    <tr>\n",
              "      <th>7</th>\n",
              "      <td>3.2</td>\n",
              "    </tr>\n",
              "    <tr>\n",
              "      <th>8</th>\n",
              "      <td>3.2</td>\n",
              "    </tr>\n",
              "    <tr>\n",
              "      <th>9</th>\n",
              "      <td>3.7</td>\n",
              "    </tr>\n",
              "    <tr>\n",
              "      <th>10</th>\n",
              "      <td>3.9</td>\n",
              "    </tr>\n",
              "    <tr>\n",
              "      <th>11</th>\n",
              "      <td>4.0</td>\n",
              "    </tr>\n",
              "    <tr>\n",
              "      <th>12</th>\n",
              "      <td>4.0</td>\n",
              "    </tr>\n",
              "    <tr>\n",
              "      <th>13</th>\n",
              "      <td>4.1</td>\n",
              "    </tr>\n",
              "    <tr>\n",
              "      <th>14</th>\n",
              "      <td>4.5</td>\n",
              "    </tr>\n",
              "    <tr>\n",
              "      <th>15</th>\n",
              "      <td>4.9</td>\n",
              "    </tr>\n",
              "    <tr>\n",
              "      <th>16</th>\n",
              "      <td>5.1</td>\n",
              "    </tr>\n",
              "    <tr>\n",
              "      <th>17</th>\n",
              "      <td>5.3</td>\n",
              "    </tr>\n",
              "    <tr>\n",
              "      <th>18</th>\n",
              "      <td>5.9</td>\n",
              "    </tr>\n",
              "    <tr>\n",
              "      <th>19</th>\n",
              "      <td>6.0</td>\n",
              "    </tr>\n",
              "    <tr>\n",
              "      <th>20</th>\n",
              "      <td>6.8</td>\n",
              "    </tr>\n",
              "    <tr>\n",
              "      <th>21</th>\n",
              "      <td>7.1</td>\n",
              "    </tr>\n",
              "    <tr>\n",
              "      <th>22</th>\n",
              "      <td>7.9</td>\n",
              "    </tr>\n",
              "    <tr>\n",
              "      <th>23</th>\n",
              "      <td>8.2</td>\n",
              "    </tr>\n",
              "    <tr>\n",
              "      <th>24</th>\n",
              "      <td>8.7</td>\n",
              "    </tr>\n",
              "    <tr>\n",
              "      <th>25</th>\n",
              "      <td>9.0</td>\n",
              "    </tr>\n",
              "    <tr>\n",
              "      <th>26</th>\n",
              "      <td>9.5</td>\n",
              "    </tr>\n",
              "    <tr>\n",
              "      <th>27</th>\n",
              "      <td>9.6</td>\n",
              "    </tr>\n",
              "    <tr>\n",
              "      <th>28</th>\n",
              "      <td>10.3</td>\n",
              "    </tr>\n",
              "    <tr>\n",
              "      <th>29</th>\n",
              "      <td>10.5</td>\n",
              "    </tr>\n",
              "  </tbody>\n",
              "</table>\n",
              "</div>\n",
              "      <button class=\"colab-df-convert\" onclick=\"convertToInteractive('df-08bb8510-c967-4eb1-8273-7a6f4a191d73')\"\n",
              "              title=\"Convert this dataframe to an interactive table.\"\n",
              "              style=\"display:none;\">\n",
              "        \n",
              "  <svg xmlns=\"http://www.w3.org/2000/svg\" height=\"24px\"viewBox=\"0 0 24 24\"\n",
              "       width=\"24px\">\n",
              "    <path d=\"M0 0h24v24H0V0z\" fill=\"none\"/>\n",
              "    <path d=\"M18.56 5.44l.94 2.06.94-2.06 2.06-.94-2.06-.94-.94-2.06-.94 2.06-2.06.94zm-11 1L8.5 8.5l.94-2.06 2.06-.94-2.06-.94L8.5 2.5l-.94 2.06-2.06.94zm10 10l.94 2.06.94-2.06 2.06-.94-2.06-.94-.94-2.06-.94 2.06-2.06.94z\"/><path d=\"M17.41 7.96l-1.37-1.37c-.4-.4-.92-.59-1.43-.59-.52 0-1.04.2-1.43.59L10.3 9.45l-7.72 7.72c-.78.78-.78 2.05 0 2.83L4 21.41c.39.39.9.59 1.41.59.51 0 1.02-.2 1.41-.59l7.78-7.78 2.81-2.81c.8-.78.8-2.07 0-2.86zM5.41 20L4 18.59l7.72-7.72 1.47 1.35L5.41 20z\"/>\n",
              "  </svg>\n",
              "      </button>\n",
              "      \n",
              "  <style>\n",
              "    .colab-df-container {\n",
              "      display:flex;\n",
              "      flex-wrap:wrap;\n",
              "      gap: 12px;\n",
              "    }\n",
              "\n",
              "    .colab-df-convert {\n",
              "      background-color: #E8F0FE;\n",
              "      border: none;\n",
              "      border-radius: 50%;\n",
              "      cursor: pointer;\n",
              "      display: none;\n",
              "      fill: #1967D2;\n",
              "      height: 32px;\n",
              "      padding: 0 0 0 0;\n",
              "      width: 32px;\n",
              "    }\n",
              "\n",
              "    .colab-df-convert:hover {\n",
              "      background-color: #E2EBFA;\n",
              "      box-shadow: 0px 1px 2px rgba(60, 64, 67, 0.3), 0px 1px 3px 1px rgba(60, 64, 67, 0.15);\n",
              "      fill: #174EA6;\n",
              "    }\n",
              "\n",
              "    [theme=dark] .colab-df-convert {\n",
              "      background-color: #3B4455;\n",
              "      fill: #D2E3FC;\n",
              "    }\n",
              "\n",
              "    [theme=dark] .colab-df-convert:hover {\n",
              "      background-color: #434B5C;\n",
              "      box-shadow: 0px 1px 3px 1px rgba(0, 0, 0, 0.15);\n",
              "      filter: drop-shadow(0px 1px 2px rgba(0, 0, 0, 0.3));\n",
              "      fill: #FFFFFF;\n",
              "    }\n",
              "  </style>\n",
              "\n",
              "      <script>\n",
              "        const buttonEl =\n",
              "          document.querySelector('#df-08bb8510-c967-4eb1-8273-7a6f4a191d73 button.colab-df-convert');\n",
              "        buttonEl.style.display =\n",
              "          google.colab.kernel.accessAllowed ? 'block' : 'none';\n",
              "\n",
              "        async function convertToInteractive(key) {\n",
              "          const element = document.querySelector('#df-08bb8510-c967-4eb1-8273-7a6f4a191d73');\n",
              "          const dataTable =\n",
              "            await google.colab.kernel.invokeFunction('convertToInteractive',\n",
              "                                                     [key], {});\n",
              "          if (!dataTable) return;\n",
              "\n",
              "          const docLinkHtml = 'Like what you see? Visit the ' +\n",
              "            '<a target=\"_blank\" href=https://colab.research.google.com/notebooks/data_table.ipynb>data table notebook</a>'\n",
              "            + ' to learn more about interactive tables.';\n",
              "          element.innerHTML = '';\n",
              "          dataTable['output_type'] = 'display_data';\n",
              "          await google.colab.output.renderOutput(dataTable, element);\n",
              "          const docLink = document.createElement('div');\n",
              "          docLink.innerHTML = docLinkHtml;\n",
              "          element.appendChild(docLink);\n",
              "        }\n",
              "      </script>\n",
              "    </div>\n",
              "  </div>\n",
              "  "
            ]
          },
          "metadata": {},
          "execution_count": 8
        }
      ]
    },
    {
      "cell_type": "code",
      "source": [
        "y"
      ],
      "metadata": {
        "colab": {
          "base_uri": "https://localhost:8080/"
        },
        "id": "MnPd-pep8UyR",
        "outputId": "4492f050-4982-49ab-e8ec-17b46a28de4c"
      },
      "execution_count": 9,
      "outputs": [
        {
          "output_type": "execute_result",
          "data": {
            "text/plain": [
              "0      39343\n",
              "1      46205\n",
              "2      37731\n",
              "3      43525\n",
              "4      39891\n",
              "5      56642\n",
              "6      60150\n",
              "7      54445\n",
              "8      64445\n",
              "9      57189\n",
              "10     63218\n",
              "11     55794\n",
              "12     56957\n",
              "13     57081\n",
              "14     61111\n",
              "15     67938\n",
              "16     66029\n",
              "17     83088\n",
              "18     81363\n",
              "19     93940\n",
              "20     91738\n",
              "21     98273\n",
              "22    101302\n",
              "23    113812\n",
              "24    109431\n",
              "25    105582\n",
              "26    116969\n",
              "27    112635\n",
              "28    122391\n",
              "29    121872\n",
              "Name: Salary, dtype: int64"
            ]
          },
          "metadata": {},
          "execution_count": 9
        }
      ]
    },
    {
      "cell_type": "code",
      "source": [
        "# IN LINEAR REGRESSION MODEL WE MAKE THE MACHINE LEARN BY TRAINING IT ON A PART OF A SET OF DATA (TRAIN DATA)\n",
        "# BY MAKING IT GET THE BEST FIT LINEAR LINE \n",
        "# MAKING IT PREDICT THE SECOND PART OF THE SET OF DATA BASED ON THIS LINE\n",
        "# CHECKING IF THE PREDICTED DATA AND THE ACTUAL SECOND PART OF THE DATA (TEST DATA), IF THEY MATCH\n",
        "# DEFINITELY THEY WONT EXACTLY MATCH BUT THE ERRORS SHOULD BE LESS \n",
        "# TO CALCULATE THE ERRORS WE USE MEAN SQUARED ERRORS\n",
        "# THESE ERRORS ARE ACTUALLY IF PREDICTED DATA FALLS ON THE REGRESSION LINE THEN HOW FAR IS THE TEST DATA FROM THIS LINE \n",
        "# LOWER THE SIZE LOWER THE ERROR MORE PRECISE IS THE M0DEL\n",
        "\n",
        "\n",
        "\n",
        "\n",
        "# WE SPLIT INTO TRAIN AND TEST DATA\n",
        "\n",
        "from sklearn.model_selection import train_test_split\n",
        "X_train, x_test, y_train, y_test=train_test_split(x,y,test_size=1/3,random_state=0)"
      ],
      "metadata": {
        "id": "IQhNXeoh8ZMF"
      },
      "execution_count": 11,
      "outputs": []
    },
    {
      "cell_type": "code",
      "source": [
        "# WE CALL OUT FOR THE CODE , THEN PUT THE INDEPENDENT DATA AND THE DEPENDENT DATA AND CREATE THE BEST FIT LINE\n",
        "\n",
        "\n",
        "from sklearn.linear_model import LinearRegression\n",
        "lr=LinearRegression()\n",
        "lr.fit(X_train,y_train)"
      ],
      "metadata": {
        "colab": {
          "base_uri": "https://localhost:8080/"
        },
        "id": "n7my5KuN9JeU",
        "outputId": "76c58118-f5cb-49dd-98a0-1cc3568bcd4c"
      },
      "execution_count": 12,
      "outputs": [
        {
          "output_type": "execute_result",
          "data": {
            "text/plain": [
              "LinearRegression()"
            ]
          },
          "metadata": {},
          "execution_count": 12
        }
      ]
    },
    {
      "cell_type": "code",
      "source": [
        "# THE BEST FIT LINE IS CREATED THEN BASED ON THE TEST DATA INDEPENDENT VARIABLE THE DEPENDENT VARAIBLE IS PREDICTED\n",
        "\n",
        "\n",
        "y_pred=lr.predict(x_test)\n",
        "\n",
        "y_pred"
      ],
      "metadata": {
        "colab": {
          "base_uri": "https://localhost:8080/"
        },
        "id": "Hvj4z4Ib9uya",
        "outputId": "b66d4618-4049-465f-be1e-a1d4a91e59e5"
      },
      "execution_count": 13,
      "outputs": [
        {
          "output_type": "execute_result",
          "data": {
            "text/plain": [
              "array([ 40835.10590871, 123079.39940819,  65134.55626083,  63265.36777221,\n",
              "       115602.64545369, 108125.8914992 , 116537.23969801,  64199.96201652,\n",
              "        76349.68719258, 100649.1375447 ])"
            ]
          },
          "metadata": {},
          "execution_count": 13
        }
      ]
    },
    {
      "cell_type": "code",
      "source": [
        "# HERE THROUGH GRAPHICAL REPRESENTATION WE SEE HOW THE TRAIN DATA LIES AROUND THE BEST FIT LINE\n",
        "\n",
        "\n",
        "plt.scatter(X_train,y_train,color=\"blue\")\n",
        "plt.plot(X_train,lr.predict(X_train),color=\"red\")\n",
        "plt.title(\"salary and experience training set\")\n",
        "plt.xlabel(\"yrs of exp\")\n",
        "plt.ylabel(\"sal\")\n",
        "plt.show()"
      ],
      "metadata": {
        "colab": {
          "base_uri": "https://localhost:8080/",
          "height": 295
        },
        "id": "N3CJyWoi95-U",
        "outputId": "3601cc3f-7546-4680-bffc-29aa072d6dd0"
      },
      "execution_count": 19,
      "outputs": [
        {
          "output_type": "display_data",
          "data": {
            "text/plain": [
              "<Figure size 432x288 with 1 Axes>"
            ],
            "image/png": "[encoded data removed]"
          },
          "metadata": {
            "needs_background": "light"
          }
        }
      ]
    },
    {
      "cell_type": "code",
      "source": [
        "# HERE THROUGH GRAPHICAL REPRESENTATION WE SEE HOW THE TEST DATA LIES AROUND THE BEST FIT LINE\n",
        "\n",
        "plt.scatter(x_test,y_test,color=\"blue\")\n",
        "plt.plot(X_train,lr.predict(X_train),color=\"red\")\n",
        "plt.title(\"salary and experience test set\")\n",
        "plt.xlabel(\"yrs of exp\")\n",
        "plt.ylabel(\"sal\")\n",
        "plt.show()"
      ],
      "metadata": {
        "colab": {
          "base_uri": "https://localhost:8080/",
          "height": 295
        },
        "id": "Ayf8rENU_Tly",
        "outputId": "d38cee1b-20f7-40b9-c1a3-ce8a9d4a2059"
      },
      "execution_count": 20,
      "outputs": [
        {
          "output_type": "display_data",
          "data": {
            "text/plain": [
              "<Figure size 432x288 with 1 Axes>"
            ],
            "image/png": "[encoded data removed]"
          },
          "metadata": {
            "needs_background": "light"
          }
        }
      ]
    },
    {
      "cell_type": "code",
      "source": [
        "# WE CALCULATE THE ERROR (DISTANCE BETWEEN ACTUAL TEST DATA AND THE BEST FIT LINE)\n",
        "\n",
        "from sklearn import metrics\n",
        "print(\"Mean Absolute Error\", metrics.mean_absolute_error(y_test,y_pred))\n",
        "print(\"Mean Squared Error\", metrics.mean_squared_error(y_test,y_pred))\n",
        "print(\"Root of Mean Squared Error\", np.sqrt(metrics.mean_squared_error(y_test,y_pred)))"
      ],
      "metadata": {
        "colab": {
          "base_uri": "https://localhost:8080/"
        },
        "id": "-lNS2rdt_hr8",
        "outputId": "81c217e4-f553-4b2d-ab33-ea29f7f5b37a"
      },
      "execution_count": 22,
      "outputs": [
        {
          "output_type": "stream",
          "name": "stdout",
          "text": [
            "Mean Absolute Error 3426.4269374307078\n",
            "Mean Squared Error 21026037.329511296\n",
            "Root of Mean Squared Error 4585.4157204675885\n"
          ]
        }
      ]
    },
    {
      "cell_type": "markdown",
      "source": [
        "Mean absolute error (MAE)\n",
        "\n",
        "The MAE measures the average magnitude of the errors in a set of forecasts, without considering their direction. It measures accuracy for continuous variables. The equation is given in the library references. Expressed in words, the MAE is the average over the verification sample of the absolute values of the differences between forecast and the corresponding observation. The MAE is a linear score which means that all the individual differences are weighted equally in the average.\n",
        "\n",
        "Root mean squared error (RMSE)\n",
        "\n",
        "The RMSE is a quadratic scoring rule which measures the average magnitude of the error. The equation for the RMSE is given in both of the references. Expressing the formula in words, the difference between forecast and corresponding observed values are each squared and then averaged over the sample. Finally, the square root of the average is taken. Since the errors are squared before they are averaged, the RMSE gives a relatively high weight to large errors. This means the RMSE is most useful when large errors are particularly undesirable.\n",
        "\n",
        "The MAE and the RMSE can be used together to diagnose the variation in the errors in a set of forecasts. The RMSE will always be larger or equal to the MAE; the greater difference between them, the greater the variance in the individual errors in the sample. If the RMSE=MAE, then all the errors are of the same magnitude\n",
        "\n",
        "Both the MAE and RMSE can range from 0 to ∞. They are negatively-oriented scores: Lower values are better.\n",
        "\n"
      ],
      "metadata": {
        "id": "hs6rNS80BbT1"
      }
    }
  ]
}