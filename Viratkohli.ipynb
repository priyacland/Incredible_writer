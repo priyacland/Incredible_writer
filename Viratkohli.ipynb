{
 "cells": [
  {
   "cell_type": "markdown",
   "id": "805cd30a",
   "metadata": {},
   "source": [
    "WE HAVE GOT THE DATASET OF VIRAT KOHLI \n",
    "WE WILL FIRST IMPORT NECESSARY LIBRARIES TO PERFORM OUR TASK"
   ]
  },
  {
   "cell_type": "code",
   "execution_count": 367,
   "id": "677f34b1",
   "metadata": {},
   "outputs": [],
   "source": [
    "# STEP 1 IS TO IMPORT NECESSARY LIBRARIES\n",
    "import matplotlib.pyplot as plt             # to visualize\n",
    "from tabulate import tabulate               # to print the table\n",
    "import matplotlib as mat                    # to visualize \n",
    "import seaborn as sns                       # to visualize\n",
    "import pandas as pd                         # for data reading\n",
    "import numpy as np                          # for numerical computation\n",
    "import statistics as st                     # for statistical checks\n",
    "from scipy.stats import norm,stats,kurtosis,skew"
   ]
  },
  {
   "cell_type": "markdown",
   "id": "3017a1a1",
   "metadata": {},
   "source": [
    "WE WILL READ THE DATA AND CONVERT IF ANY MISSING DATAS ARE SHOWN IN STRING TO nan FORMAT"
   ]
  },
  {
   "cell_type": "code",
   "execution_count": 207,
   "id": "f6e10da2",
   "metadata": {},
   "outputs": [],
   "source": [
    "# a list with all missing value formats\n",
    "missing_value_formats = [\"n.a.\",\"?\",\"NA\",\"n/a\", \"na\", \"--\",\"-\"]\n",
    "df = pd.read_csv(\"Virat_Kohli_ODI.csv\", na_values = missing_value_formats)\n",
    "\n"
   ]
  },
  {
   "cell_type": "code",
   "execution_count": 208,
   "id": "d47063b5",
   "metadata": {},
   "outputs": [
    {
     "data": {
      "text/html": [
       "<div>\n",
       "<style scoped>\n",
       "    .dataframe tbody tr th:only-of-type {\n",
       "        vertical-align: middle;\n",
       "    }\n",
       "\n",
       "    .dataframe tbody tr th {\n",
       "        vertical-align: top;\n",
       "    }\n",
       "\n",
       "    .dataframe thead th {\n",
       "        text-align: right;\n",
       "    }\n",
       "</style>\n",
       "<table border=\"1\" class=\"dataframe\">\n",
       "  <thead>\n",
       "    <tr style=\"text-align: right;\">\n",
       "      <th></th>\n",
       "      <th>Runs</th>\n",
       "      <th>Mins</th>\n",
       "      <th>BF</th>\n",
       "      <th>4s</th>\n",
       "      <th>6s</th>\n",
       "      <th>SR</th>\n",
       "      <th>Pos</th>\n",
       "      <th>Dismissal</th>\n",
       "      <th>Inns</th>\n",
       "      <th>Opposition</th>\n",
       "      <th>Ground</th>\n",
       "      <th>Start Date</th>\n",
       "    </tr>\n",
       "  </thead>\n",
       "  <tbody>\n",
       "    <tr>\n",
       "      <th>0</th>\n",
       "      <td>12</td>\n",
       "      <td>33.0</td>\n",
       "      <td>22</td>\n",
       "      <td>1</td>\n",
       "      <td>0</td>\n",
       "      <td>54.54</td>\n",
       "      <td>2</td>\n",
       "      <td>lbw</td>\n",
       "      <td>1</td>\n",
       "      <td>v Sri Lanka</td>\n",
       "      <td>Dambulla</td>\n",
       "      <td>18-Aug-08</td>\n",
       "    </tr>\n",
       "    <tr>\n",
       "      <th>1</th>\n",
       "      <td>37</td>\n",
       "      <td>82.0</td>\n",
       "      <td>67</td>\n",
       "      <td>6</td>\n",
       "      <td>0</td>\n",
       "      <td>55.22</td>\n",
       "      <td>2</td>\n",
       "      <td>caught</td>\n",
       "      <td>2</td>\n",
       "      <td>v Sri Lanka</td>\n",
       "      <td>Dambulla</td>\n",
       "      <td>20-Aug-08</td>\n",
       "    </tr>\n",
       "    <tr>\n",
       "      <th>2</th>\n",
       "      <td>25</td>\n",
       "      <td>40.0</td>\n",
       "      <td>38</td>\n",
       "      <td>4</td>\n",
       "      <td>0</td>\n",
       "      <td>65.78</td>\n",
       "      <td>1</td>\n",
       "      <td>run out</td>\n",
       "      <td>1</td>\n",
       "      <td>v Sri Lanka</td>\n",
       "      <td>Colombo (RPS)</td>\n",
       "      <td>24-Aug-08</td>\n",
       "    </tr>\n",
       "    <tr>\n",
       "      <th>3</th>\n",
       "      <td>54</td>\n",
       "      <td>87.0</td>\n",
       "      <td>66</td>\n",
       "      <td>7</td>\n",
       "      <td>0</td>\n",
       "      <td>81.81</td>\n",
       "      <td>1</td>\n",
       "      <td>bowled</td>\n",
       "      <td>1</td>\n",
       "      <td>v Sri Lanka</td>\n",
       "      <td>Colombo (RPS)</td>\n",
       "      <td>27-Aug-08</td>\n",
       "    </tr>\n",
       "    <tr>\n",
       "      <th>4</th>\n",
       "      <td>31</td>\n",
       "      <td>45.0</td>\n",
       "      <td>46</td>\n",
       "      <td>3</td>\n",
       "      <td>1</td>\n",
       "      <td>67.39</td>\n",
       "      <td>1</td>\n",
       "      <td>lbw</td>\n",
       "      <td>2</td>\n",
       "      <td>v Sri Lanka</td>\n",
       "      <td>Colombo (RPS)</td>\n",
       "      <td>29-Aug-08</td>\n",
       "    </tr>\n",
       "  </tbody>\n",
       "</table>\n",
       "</div>"
      ],
      "text/plain": [
       "  Runs  Mins  BF  4s  6s     SR  Pos Dismissal  Inns   Opposition  \\\n",
       "0   12  33.0  22   1   0  54.54    2       lbw     1  v Sri Lanka   \n",
       "1   37  82.0  67   6   0  55.22    2    caught     2  v Sri Lanka   \n",
       "2   25  40.0  38   4   0  65.78    1   run out     1  v Sri Lanka   \n",
       "3   54  87.0  66   7   0  81.81    1    bowled     1  v Sri Lanka   \n",
       "4   31  45.0  46   3   1  67.39    1       lbw     2  v Sri Lanka   \n",
       "\n",
       "          Ground Start Date  \n",
       "0       Dambulla  18-Aug-08  \n",
       "1       Dambulla  20-Aug-08  \n",
       "2  Colombo (RPS)  24-Aug-08  \n",
       "3  Colombo (RPS)  27-Aug-08  \n",
       "4  Colombo (RPS)  29-Aug-08  "
      ]
     },
     "execution_count": 208,
     "metadata": {},
     "output_type": "execute_result"
    }
   ],
   "source": [
    "df.head()"
   ]
  },
  {
   "cell_type": "markdown",
   "id": "0c546f20",
   "metadata": {},
   "source": [
    "THIS SHOWS THE FIRST 5 ROWS OF THE DATA \n",
    "IT INDICATES SUCCESSFUL READING OF DATA"
   ]
  },
  {
   "cell_type": "code",
   "execution_count": 209,
   "id": "a7c17a82",
   "metadata": {},
   "outputs": [
    {
     "data": {
      "text/plain": [
       "(132, 12)"
      ]
     },
     "execution_count": 209,
     "metadata": {},
     "output_type": "execute_result"
    }
   ],
   "source": [
    "df.shape"
   ]
  },
  {
   "cell_type": "markdown",
   "id": "b12d5c95",
   "metadata": {},
   "source": [
    "THIS SHOWS THAT DATA HAS 132 ROWS AND 12 COLUMNS"
   ]
  },
  {
   "cell_type": "code",
   "execution_count": 210,
   "id": "df250caa",
   "metadata": {},
   "outputs": [
    {
     "data": {
      "text/plain": [
       "Index(['Runs', 'Mins', 'BF', '4s', '6s', 'SR', 'Pos', 'Dismissal', 'Inns',\n",
       "       'Opposition', 'Ground', 'Start Date'],\n",
       "      dtype='object')"
      ]
     },
     "execution_count": 210,
     "metadata": {},
     "output_type": "execute_result"
    }
   ],
   "source": [
    "df.columns"
   ]
  },
  {
   "cell_type": "markdown",
   "id": "28d357a9",
   "metadata": {},
   "source": [
    "THIS DISPLAYS ALL THE COLUMN HEADINGS"
   ]
  },
  {
   "cell_type": "markdown",
   "id": "cf8eabbb",
   "metadata": {},
   "source": [
    "# QUESTIONS THAT COME TO MIND WHEN YOU SEE THIS DATA SET\n",
    "\n",
    "# SINCE 18 AUG 2008 UPTILL 22 JAN 2017 WE HAVE DATA OF 132 MATCHES\n",
    "\n",
    "\n",
    "# I WANT TO KNOW HOW MANY MATCHES HAS HE PLAYED\n",
    "# I WANT TO KNOW TOTAL RUNS MADE\n",
    "# AVERAGE SCORE\n",
    "# HOW MANY BOUNDARIES\n",
    "# HOW MANY 6S\n",
    "# HOW MANY CENTURIES \n",
    "# HOW MANY HALF CENTURIES\n",
    "# BATTING LINE UP TOTAL AND AVERAGE SCORE\n",
    "# BEST PERFORMANCE WAS AGT WHOM\n",
    "# WORST PERFORMANCE WAS AGT WHOM\n",
    "# WHAT IS THE SPREAD OF HIS RUNS\n",
    "# SPREAD OF RUNRATE\n",
    "# COUNT OF DIFFERENT DISMISSALS\n",
    "# IS THERE A CORRELATION BETWEEN TIME SPENT AT CREASE AND RUNS\n",
    "# IS THERE A CORRELATION BETWEEN BALLS FACED AND RUNS\n",
    "# IS THERE A CORRELATION BETWEEN TIME SPENT AT CREASE AND DISMISSAL\n",
    "# COMPETITOR WISE PERFORMANCE\n",
    "# POSITION WISE PERFORMANCE\n",
    "# GROUND WISE PERFORMANCE\n",
    "# WHEN HE HAS HIT A LOT OF SIXERS HAS HE GOT CAUGHT\n",
    "# WHEN HE HAS SPENT A LOT OF TIME AT CREASE HE HAS A CHANCE OF RUNOUT\n",
    "# ANNUAL PERFORMANCE NO OF MATCHES, TOTAL SCORE AVERAGE SCORE \n",
    "\n"
   ]
  },
  {
   "cell_type": "markdown",
   "id": "6b7ab3dc",
   "metadata": {},
   "source": [
    "TO UNDERSTAND THE DATA TYPE"
   ]
  },
  {
   "cell_type": "code",
   "execution_count": 212,
   "id": "e78d7196",
   "metadata": {},
   "outputs": [
    {
     "name": "stdout",
     "output_type": "stream",
     "text": [
      "<class 'pandas.core.frame.DataFrame'>\n",
      "RangeIndex: 132 entries, 0 to 131\n",
      "Data columns (total 12 columns):\n",
      " #   Column      Non-Null Count  Dtype  \n",
      "---  ------      --------------  -----  \n",
      " 0   Runs        132 non-null    object \n",
      " 1   Mins        126 non-null    float64\n",
      " 2   BF          132 non-null    int64  \n",
      " 3   4s          132 non-null    int64  \n",
      " 4   6s          132 non-null    int64  \n",
      " 5   SR          131 non-null    float64\n",
      " 6   Pos         132 non-null    int64  \n",
      " 7   Dismissal   132 non-null    object \n",
      " 8   Inns        132 non-null    int64  \n",
      " 9   Opposition  132 non-null    object \n",
      " 10  Ground      132 non-null    object \n",
      " 11  Start Date  132 non-null    object \n",
      "dtypes: float64(2), int64(5), object(5)\n",
      "memory usage: 12.5+ KB\n"
     ]
    }
   ],
   "source": [
    "df.info()"
   ]
  },
  {
   "cell_type": "markdown",
   "id": "567c1875",
   "metadata": {},
   "source": [
    "# cleaning of data required\n",
    "# there are strings in the data RUNS causing the data to be shown as object "
   ]
  },
  {
   "cell_type": "code",
   "execution_count": 213,
   "id": "bd74dc1d",
   "metadata": {},
   "outputs": [],
   "source": [
    "new= df[\"Runs\"].str.split(\"*\",expand = True)"
   ]
  },
  {
   "cell_type": "markdown",
   "id": "87497bef",
   "metadata": {},
   "source": [
    "we split the data to put * aside. stored the data in a variable"
   ]
  },
  {
   "cell_type": "code",
   "execution_count": 214,
   "id": "958d5ba6",
   "metadata": {},
   "outputs": [],
   "source": [
    "new.rename(columns={0:\"Runs\",1:\"string\"},inplace=True)"
   ]
  },
  {
   "cell_type": "markdown",
   "id": "a46140ab",
   "metadata": {},
   "source": [
    "the new variable columns are renamed"
   ]
  },
  {
   "cell_type": "markdown",
   "id": "4a2eefe8",
   "metadata": {},
   "source": [
    "we save the rectified runs data into main dataframe"
   ]
  },
  {
   "cell_type": "code",
   "execution_count": 215,
   "id": "03a00bdf",
   "metadata": {},
   "outputs": [],
   "source": [
    "df[\"Runs\"]=new.Runs"
   ]
  },
  {
   "cell_type": "markdown",
   "id": "fd09dac0",
   "metadata": {},
   "source": [
    "now we assign it to be an integer"
   ]
  },
  {
   "cell_type": "code",
   "execution_count": 216,
   "id": "b64ada72",
   "metadata": {},
   "outputs": [],
   "source": [
    "df['Runs'] = df['Runs'].astype(int)"
   ]
  },
  {
   "cell_type": "code",
   "execution_count": 217,
   "id": "6385fccd",
   "metadata": {},
   "outputs": [
    {
     "name": "stdout",
     "output_type": "stream",
     "text": [
      "<class 'pandas.core.frame.DataFrame'>\n",
      "RangeIndex: 132 entries, 0 to 131\n",
      "Data columns (total 12 columns):\n",
      " #   Column      Non-Null Count  Dtype  \n",
      "---  ------      --------------  -----  \n",
      " 0   Runs        132 non-null    int32  \n",
      " 1   Mins        126 non-null    float64\n",
      " 2   BF          132 non-null    int64  \n",
      " 3   4s          132 non-null    int64  \n",
      " 4   6s          132 non-null    int64  \n",
      " 5   SR          131 non-null    float64\n",
      " 6   Pos         132 non-null    int64  \n",
      " 7   Dismissal   132 non-null    object \n",
      " 8   Inns        132 non-null    int64  \n",
      " 9   Opposition  132 non-null    object \n",
      " 10  Ground      132 non-null    object \n",
      " 11  Start Date  132 non-null    object \n",
      "dtypes: float64(2), int32(1), int64(5), object(4)\n",
      "memory usage: 12.0+ KB\n"
     ]
    }
   ],
   "source": [
    "df.info()"
   ]
  },
  {
   "cell_type": "code",
   "execution_count": 218,
   "id": "949d4e0d",
   "metadata": {},
   "outputs": [
    {
     "data": {
      "text/plain": [
       "Runs          0\n",
       "Mins          6\n",
       "BF            0\n",
       "4s            0\n",
       "6s            0\n",
       "SR            1\n",
       "Pos           0\n",
       "Dismissal     0\n",
       "Inns          0\n",
       "Opposition    0\n",
       "Ground        0\n",
       "Start Date    0\n",
       "dtype: int64"
      ]
     },
     "execution_count": 218,
     "metadata": {},
     "output_type": "execute_result"
    }
   ],
   "source": [
    "df.isnull().sum()       # isnull returns the True/False dataframe\n",
    "                            #sum: counts the number of True in columns"
   ]
  },
  {
   "cell_type": "markdown",
   "id": "3c25f528",
   "metadata": {},
   "source": [
    "to check if data has null values \n",
    "as in our data frame we can see Mins and SR having null values"
   ]
  },
  {
   "cell_type": "markdown",
   "id": "a8f5790f",
   "metadata": {},
   "source": [
    "#we have defined certain functions for our convenience"
   ]
  },
  {
   "cell_type": "code",
   "execution_count": 41,
   "id": "d099b552",
   "metadata": {},
   "outputs": [],
   "source": [
    "def spreadgraph(col):\n",
    "    fig, ax = plt.subplots(1, 2, figsize= (20, 7))               # Creating the space for the 2 images, first argument in subplots is rows and second is columns and the figure size\n",
    "    sns.histplot(x = df[col], ax =ax[1], color = \"b\",kde=True) # ax[1] means image will plot at the second space\n",
    "    sns.boxplot(x = df[col], ax = ax[0], color = \"m\") # ax[0] means image will plot at the second space\n",
    "    plt.show()\n",
    "\n",
    "def bargraph(col):\n",
    "    fig, ax = plt.subplots()\n",
    "    ax = sns.countplot(x = df[col])\n",
    "    for bar in ax.patches:                                              # ax.patches returns the rectange object from matplotlib\n",
    "        percentage = f\"{round(bar.get_height() /len(df)*100, 2)}%\"          # first it calculate the bar height and then dividing by the number of rows in data(to calculate percentage) \n",
    "                                                                    # and multiply with 100 to get the percentage and rounding of by 2 numbers.  \n",
    "        x = bar.get_x() + bar.get_width() /2                            # get_x: returns the left corrdinate of the rectange, get_width: returns width of rectagle\n",
    "        y = bar.get_height()                                            # get_height: returns height of rectange\n",
    "        ax.annotate(percentage, (x, y), va = \"bottom\", ha =\"center\" )   # va bottom: means percentage would be above the bar head. \n",
    "        fig.set_figheight(4)                                                             # annotate: used to annotate over objects, here objects are the bars\n",
    "        fig.set_figwidth(7)\n",
    "    plt.show()\n",
    "\n",
    "# function for unique data, mode and null values for population categorical data\n",
    "def info_of_cat(col): \n",
    "    print(f\"Unique values in {col} are: {df[col].unique()}\") # unique: returns the unique values in the col\n",
    "    print(f\"Mode of {col} is {df[col].mode()[0]}\")  # mode: returns the mode of the column\n",
    "    print(f\"Number of missing values in {col} is {df[col].isnull().sum()}\") # isnull().sum() counts the number of null in dataframe\n",
    "    if df[col].isnull().sum() > 0:  # check if null values are present\n",
    "        print(f\"\\nThere are null values in the {col} column\")\n",
    "    print(df[col].value_counts())\n",
    "\n",
    "def info_of_numerical(col):\n",
    "    print(f\"The mean of the {col} is {df[col].mean()}\")\n",
    "    print(f\"The median of the {col} is {df[col].median()}\")\n",
    "    print(f\"The mode of the {col} is {df[col].mode()[0]}\")\n",
    "    print(f\"The standard deviation of the {col} is {df[col].std()}\")\n",
    "    print(f\"Number of missing values in the {col} is {df[col].isnull().sum()}\")\n",
    "    print(f\"Max values in the {col} is {df[col].max()}\")\n",
    "    print(f\"Min values in the {col} is {df[col].min()}\")"
   ]
  },
  {
   "cell_type": "markdown",
   "id": "c43898c3",
   "metadata": {},
   "source": [
    "# lets seggregate columns into categorical and numerical continuous"
   ]
  },
  {
   "cell_type": "code",
   "execution_count": 55,
   "id": "5879bed5",
   "metadata": {},
   "outputs": [],
   "source": [
    "# define a function to separate categorical and numerical data\n",
    "# Separating out the categorical and continuous variables\n",
    "def separate_data_types(df):\n",
    "    categorical = []\n",
    "    continuous = []\n",
    "    for column in df.columns:                # looping on the number of columns\n",
    "        if df[column].nunique() < 11:       # nunique:  returns unique values in the column,\n",
    "                                                    #here 100 is the hyperparamter and can be changed\n",
    "            categorical.append(column)\n",
    "        else:\n",
    "            continuous.append(column)\n",
    "            \n",
    "    return categorical, continuous   "
   ]
  },
  {
   "cell_type": "code",
   "execution_count": 56,
   "id": "db8db657",
   "metadata": {},
   "outputs": [
    {
     "name": "stdout",
     "output_type": "stream",
     "text": [
      "categorical    continuous\n",
      "-------------  ------------\n",
      "6s             Runs\n",
      "Pos            Mins\n",
      "Dismissal      BF\n",
      "Inns           4s\n",
      "               SR\n",
      "               Opposition\n",
      "               Ground\n",
      "               Start Date\n"
     ]
    }
   ],
   "source": [
    "categorical, continuous = separate_data_types(df) # Calling the function\n",
    "from tabulate import tabulate\n",
    "table = [categorical, continuous]\n",
    "print(tabulate({\"Categorical\":categorical,\n",
    "                \"continuous\": continuous}, headers = [\"categorical\", \"continuous\"]))\n",
    "# # Tabulate is a package used to print the list, dict or any data sets in a proper format; in table format\n"
   ]
  },
  {
   "cell_type": "markdown",
   "id": "cf0df849",
   "metadata": {},
   "source": [
    "# if we analyse this column 6s that is sixers hit by the batsman we notice that most of the matches that is 69% of matches he has not been able to hit a six, 18% of the matches he has hit 1 six. There was one match he managed to hit 7 sixes."
   ]
  },
  {
   "cell_type": "code",
   "execution_count": 57,
   "id": "f11e6970",
   "metadata": {},
   "outputs": [
    {
     "name": "stdout",
     "output_type": "stream",
     "text": [
      "Unique values in 6s are: [0 1 2 7 3 5]\n",
      "Mode of 6s is 0\n",
      "Number of missing values in 6s is 0\n",
      "0    91\n",
      "1    24\n",
      "2    11\n",
      "3     3\n",
      "5     2\n",
      "7     1\n",
      "Name: 6s, dtype: int64\n"
     ]
    }
   ],
   "source": [
    "info_of_cat(\"6s\")"
   ]
  },
  {
   "cell_type": "code",
   "execution_count": 58,
   "id": "b6cf82f7",
   "metadata": {},
   "outputs": [
    {
     "data": {
      "image/png": "[encoded data removed]",
      "text/plain": [
       "<Figure size 504x288 with 1 Axes>"
      ]
     },
     "metadata": {
      "needs_background": "light"
     },
     "output_type": "display_data"
    }
   ],
   "source": [
    "bargraph(\"6s\")"
   ]
  },
  {
   "cell_type": "markdown",
   "id": "f1e10b60",
   "metadata": {},
   "source": [
    "# on analysing column 4s, we come to know that only 28% matches he has not scored a four, rest of the matches he has scored a four as less as 1 boundary (12%) to 18 boundaries in one match."
   ]
  },
  {
   "cell_type": "code",
   "execution_count": 59,
   "id": "7daaa7da",
   "metadata": {},
   "outputs": [
    {
     "name": "stdout",
     "output_type": "stream",
     "text": [
      "Unique values in 4s are: [ 1  6  4  7  3  0 11  5 10  8  2  9 16 14 12 13 18]\n",
      "Mode of 4s is 0\n",
      "Number of missing values in 4s is 0\n",
      "0     32\n",
      "1     16\n",
      "2     13\n",
      "5     10\n",
      "3      9\n",
      "4      8\n",
      "9      8\n",
      "7      7\n",
      "11     6\n",
      "6      6\n",
      "8      5\n",
      "16     3\n",
      "13     3\n",
      "12     2\n",
      "10     2\n",
      "14     1\n",
      "18     1\n",
      "Name: 4s, dtype: int64\n"
     ]
    }
   ],
   "source": [
    "info_of_cat(\"4s\")"
   ]
  },
  {
   "cell_type": "code",
   "execution_count": 60,
   "id": "ac069ad2",
   "metadata": {},
   "outputs": [
    {
     "data": {
      "image/png": "[encoded data removed]",
      "text/plain": [
       "<Figure size 504x288 with 1 Axes>"
      ]
     },
     "metadata": {
      "needs_background": "light"
     },
     "output_type": "display_data"
    }
   ],
   "source": [
    "bargraph(\"4s\")"
   ]
  },
  {
   "cell_type": "markdown",
   "id": "ae5ff552",
   "metadata": {},
   "source": [
    "# on analysing which position does Virat kohli is mostly played at we can see he is mostly placed at position 3 , sometimes at 4 , very rarely at 1,2,5,6,7"
   ]
  },
  {
   "cell_type": "code",
   "execution_count": 61,
   "id": "d653e1c8",
   "metadata": {},
   "outputs": [
    {
     "name": "stdout",
     "output_type": "stream",
     "text": [
      "Unique values in Pos are: [2 1 7 4 3 5 6]\n",
      "Mode of Pos is 3\n",
      "Number of missing values in Pos is 0\n",
      "3    91\n",
      "4    28\n",
      "2     3\n",
      "1     3\n",
      "7     3\n",
      "5     3\n",
      "6     1\n",
      "Name: Pos, dtype: int64\n"
     ]
    }
   ],
   "source": [
    "info_of_cat(\"Pos\")"
   ]
  },
  {
   "cell_type": "code",
   "execution_count": 62,
   "id": "0ce11dce",
   "metadata": {},
   "outputs": [
    {
     "data": {
      "image/png": "[encoded data removed]",
      "text/plain": [
       "<Figure size 504x288 with 1 Axes>"
      ]
     },
     "metadata": {
      "needs_background": "light"
     },
     "output_type": "display_data"
    }
   ],
   "source": [
    "bargraph(\"Pos\")"
   ]
  },
  {
   "cell_type": "markdown",
   "id": "dc088145",
   "metadata": {},
   "source": [
    "# MOSTLY HE HAS BEEN DISMISSED AS CAUGHT 63% OF THE TIME, 13% OF THE TIME HE HAS REMAINED NOT OUT, OR ELSE HE HAS BEEN RUN OUT OR BOWLED OR LBW \n",
    "ITS VERY RARE THAT HE HAS BEEN STUMPED OR HIT WICKET"
   ]
  },
  {
   "cell_type": "code",
   "execution_count": 63,
   "id": "3a7b1a4d",
   "metadata": {},
   "outputs": [
    {
     "name": "stdout",
     "output_type": "stream",
     "text": [
      "Unique values in Dismissal are: ['lbw' 'caught' 'run out' 'bowled' 'not out' 'stumped' 'hit wicket']\n",
      "Mode of Dismissal is caught\n",
      "Number of missing values in Dismissal is 0\n",
      "caught        84\n",
      "not out       17\n",
      "run out       10\n",
      "bowled        10\n",
      "lbw            9\n",
      "stumped        1\n",
      "hit wicket     1\n",
      "Name: Dismissal, dtype: int64\n"
     ]
    }
   ],
   "source": [
    "info_of_cat(\"Dismissal\")"
   ]
  },
  {
   "cell_type": "code",
   "execution_count": 64,
   "id": "2a10cc17",
   "metadata": {},
   "outputs": [
    {
     "data": {
      "image/png": "[encoded data removed]",
      "text/plain": [
       "<Figure size 504x288 with 1 Axes>"
      ]
     },
     "metadata": {
      "needs_background": "light"
     },
     "output_type": "display_data"
    }
   ],
   "source": [
    "bargraph(\"Dismissal\")"
   ]
  },
  {
   "cell_type": "code",
   "execution_count": 65,
   "id": "6c500429",
   "metadata": {},
   "outputs": [
    {
     "name": "stdout",
     "output_type": "stream",
     "text": [
      "Unique values in Inns are: [1 2]\n",
      "Mode of Inns is 2\n",
      "Number of missing values in Inns is 0\n",
      "2    76\n",
      "1    56\n",
      "Name: Inns, dtype: int64\n"
     ]
    }
   ],
   "source": [
    "info_of_cat(\"Inns\")"
   ]
  },
  {
   "cell_type": "code",
   "execution_count": 66,
   "id": "9d5d2141",
   "metadata": {},
   "outputs": [
    {
     "data": {
      "image/png": "[encoded data removed]",
      "text/plain": [
       "<Figure size 504x288 with 1 Axes>"
      ]
     },
     "metadata": {
      "needs_background": "light"
     },
     "output_type": "display_data"
    }
   ],
   "source": [
    "bargraph(\"Inns\")"
   ]
  },
  {
   "cell_type": "code",
   "execution_count": 67,
   "id": "1c668f41",
   "metadata": {},
   "outputs": [
    {
     "name": "stdout",
     "output_type": "stream",
     "text": [
      "Unique values in Opposition are: ['v Sri Lanka' 'v Australia' 'v Bangladesh' 'v South Africa' 'v Zimbabwe'\n",
      " 'v New Zealand' 'v Ireland' 'v Netherlands' 'v West Indies' 'v Pakistan'\n",
      " 'v England']\n",
      "Mode of Opposition is v Sri Lanka\n",
      "Number of missing values in Opposition is 0\n",
      "v Sri Lanka       24\n",
      "v England         21\n",
      "v Australia       20\n",
      "v West Indies     19\n",
      "v South Africa    15\n",
      "v New Zealand     14\n",
      "v Bangladesh       8\n",
      "v Zimbabwe         5\n",
      "v Pakistan         4\n",
      "v Ireland          1\n",
      "v Netherlands      1\n",
      "Name: Opposition, dtype: int64\n"
     ]
    }
   ],
   "source": [
    "info_of_cat(\"Opposition\")"
   ]
  },
  {
   "cell_type": "code",
   "execution_count": 68,
   "id": "9184f509",
   "metadata": {},
   "outputs": [
    {
     "data": {
      "image/png": "[encoded data removed]",
      "text/plain": [
       "<Figure size 504x288 with 1 Axes>"
      ]
     },
     "metadata": {
      "needs_background": "light"
     },
     "output_type": "display_data"
    }
   ],
   "source": [
    "bargraph(\"Opposition\")"
   ]
  },
  {
   "cell_type": "code",
   "execution_count": 69,
   "id": "28885124",
   "metadata": {},
   "outputs": [
    {
     "name": "stdout",
     "output_type": "stream",
     "text": [
      "Unique values in Ground are: ['Dambulla' 'Colombo (RPS)' 'Vadodara' 'Mohali' 'Rajkot' 'Nagpur'\n",
      " 'Kolkata' 'Dhaka' 'Jaipur' 'Ahmedabad' 'Bulawayo' 'Harare'\n",
      " 'Visakhapatnam' 'Guwahati' 'Bengaluru' 'Chennai' 'Durban' 'Johannesburg'\n",
      " 'Cape Town' 'Port Elizabeth' 'Centurion' 'Delhi' 'Mumbai' 'Port of Spain'\n",
      " 'North Sound' 'Kingston' 'Southampton' 'The Oval' 'Cardiff'\n",
      " 'Hyderabad (Deccan)' 'Cuttack' 'Indore' 'Melbourne' 'Adelaide' 'Brisbane'\n",
      " 'Sydney' 'Hambantota' 'Pallekele' 'Kochi' 'Ranchi' 'Dharamsala'\n",
      " 'Birmingham' 'Pune' 'Kanpur' 'Napier' 'Hamilton' 'Wellington' 'Fatullah'\n",
      " 'Nottingham' 'Leeds' 'Perth' 'Canberra']\n",
      "Mode of Ground is Dhaka\n",
      "Number of missing values in Ground is 0\n",
      "Dhaka                 7\n",
      "Dambulla              6\n",
      "Colombo (RPS)         6\n",
      "Mohali                6\n",
      "Kolkata               5\n",
      "Chennai               5\n",
      "Delhi                 5\n",
      "Ahmedabad             4\n",
      "Harare                4\n",
      "Visakhapatnam         4\n",
      "Nagpur                3\n",
      "Port of Spain         3\n",
      "Dharamsala            3\n",
      "Ranchi                3\n",
      "Bengaluru             3\n",
      "Rajkot                3\n",
      "Kochi                 3\n",
      "Cuttack               3\n",
      "Sydney                3\n",
      "Jaipur                3\n",
      "Melbourne             3\n",
      "Mumbai                3\n",
      "Indore                2\n",
      "Kanpur                2\n",
      "Brisbane              2\n",
      "Hambantota            2\n",
      "Cardiff               2\n",
      "Hyderabad (Deccan)    2\n",
      "North Sound           2\n",
      "Hamilton              2\n",
      "Vadodara              2\n",
      "Kingston              2\n",
      "Pune                  2\n",
      "Johannesburg          2\n",
      "Durban                2\n",
      "Birmingham            2\n",
      "Napier                1\n",
      "Wellington            1\n",
      "Fatullah              1\n",
      "Nottingham            1\n",
      "Leeds                 1\n",
      "Perth                 1\n",
      "Southampton           1\n",
      "Pallekele             1\n",
      "Adelaide              1\n",
      "The Oval              1\n",
      "Centurion             1\n",
      "Port Elizabeth        1\n",
      "Cape Town             1\n",
      "Guwahati              1\n",
      "Bulawayo              1\n",
      "Canberra              1\n",
      "Name: Ground, dtype: int64\n"
     ]
    }
   ],
   "source": [
    "info_of_cat(\"Ground\")"
   ]
  },
  {
   "cell_type": "code",
   "execution_count": 70,
   "id": "b7347af7",
   "metadata": {},
   "outputs": [
    {
     "name": "stdout",
     "output_type": "stream",
     "text": [
      "The mean of the Runs is 46.84848484848485\n",
      "The median of the Runs is 32.5\n",
      "The mode of the Runs is 0\n",
      "The standard deviation of the Runs is 41.994635216891325\n",
      "Number of missing values in the Runs is 0\n",
      "Max values in the Runs is 154\n",
      "Min values in the Runs is 0\n"
     ]
    }
   ],
   "source": [
    "info_of_numerical(\"Runs\")"
   ]
  },
  {
   "cell_type": "code",
   "execution_count": 71,
   "id": "aefccae6",
   "metadata": {},
   "outputs": [
    {
     "data": {
      "image/png": "[encoded data removed]",
      "text/plain": [
       "<Figure size 1440x504 with 2 Axes>"
      ]
     },
     "metadata": {
      "needs_background": "light"
     },
     "output_type": "display_data"
    }
   ],
   "source": [
    "spreadgraph(\"Runs\")"
   ]
  },
  {
   "cell_type": "code",
   "execution_count": 72,
   "id": "f58efba8",
   "metadata": {},
   "outputs": [
    {
     "name": "stdout",
     "output_type": "stream",
     "text": [
      "The mean of the Mins is 70.4920634920635\n",
      "The median of the Mins is 56.0\n",
      "The mode of the Mins is 9.0\n",
      "The standard deviation of the Mins is 57.27013127720189\n",
      "Number of missing values in the Mins is 6\n",
      "Max values in the Mins is 202.0\n",
      "Min values in the Mins is 1.0\n"
     ]
    }
   ],
   "source": [
    "info_of_numerical(\"Mins\")"
   ]
  },
  {
   "cell_type": "code",
   "execution_count": null,
   "id": "c89ef511",
   "metadata": {},
   "outputs": [],
   "source": [
    "runs_scored=pd.DataFrame((df.Runs))\n"
   ]
  },
  {
   "cell_type": "code",
   "execution_count": 76,
   "id": "6725c686",
   "metadata": {},
   "outputs": [],
   "source": [
    "runs_bins= pd.cut(x=df['Runs'], bins=[0,10,20,30,40,50,60,70,80,90,100,110,120])"
   ]
  },
  {
   "cell_type": "code",
   "execution_count": 77,
   "id": "0505da58",
   "metadata": {},
   "outputs": [
    {
     "data": {
      "text/plain": [
       "0      (10.0, 20.0]\n",
       "1      (30.0, 40.0]\n",
       "2      (20.0, 30.0]\n",
       "3      (50.0, 60.0]\n",
       "4      (30.0, 40.0]\n",
       "           ...     \n",
       "127    (40.0, 50.0]\n",
       "128    (60.0, 70.0]\n",
       "129             NaN\n",
       "130     (0.0, 10.0]\n",
       "131    (50.0, 60.0]\n",
       "Name: Runs, Length: 132, dtype: category\n",
       "Categories (12, interval[int64, right]): [(0, 10] < (10, 20] < (20, 30] < (30, 40] ... (80, 90] < (90, 100] < (100, 110] < (110, 120]]"
      ]
     },
     "execution_count": 77,
     "metadata": {},
     "output_type": "execute_result"
    }
   ],
   "source": [
    "runs_bins"
   ]
  },
  {
   "cell_type": "code",
   "execution_count": 369,
   "id": "b367547c",
   "metadata": {},
   "outputs": [],
   "source": [
    "runs_bins=pd.DataFrame(runs_bins.value_counts(),reset_index)"
   ]
  },
  {
   "cell_type": "code",
   "execution_count": 377,
   "id": "2fd97616",
   "metadata": {},
   "outputs": [],
   "source": [
    "runs_bins.rename(columns={0:\"Runs_bins\"},inplace=True)\n"
   ]
  },
  {
   "cell_type": "code",
   "execution_count": 378,
   "id": "44d1171b",
   "metadata": {},
   "outputs": [
    {
     "data": {
      "text/html": [
       "<div>\n",
       "<style scoped>\n",
       "    .dataframe tbody tr th:only-of-type {\n",
       "        vertical-align: middle;\n",
       "    }\n",
       "\n",
       "    .dataframe tbody tr th {\n",
       "        vertical-align: top;\n",
       "    }\n",
       "\n",
       "    .dataframe thead th {\n",
       "        text-align: right;\n",
       "    }\n",
       "</style>\n",
       "<table border=\"1\" class=\"dataframe\">\n",
       "  <thead>\n",
       "    <tr style=\"text-align: right;\">\n",
       "      <th></th>\n",
       "      <th>Runs</th>\n",
       "    </tr>\n",
       "  </thead>\n",
       "  <tbody>\n",
       "    <tr>\n",
       "      <th>(0, 10]</th>\n",
       "      <td>24</td>\n",
       "    </tr>\n",
       "    <tr>\n",
       "      <th>(20, 30]</th>\n",
       "      <td>15</td>\n",
       "    </tr>\n",
       "    <tr>\n",
       "      <th>(10, 20]</th>\n",
       "      <td>13</td>\n",
       "    </tr>\n",
       "    <tr>\n",
       "      <th>(30, 40]</th>\n",
       "      <td>13</td>\n",
       "    </tr>\n",
       "    <tr>\n",
       "      <th>(60, 70]</th>\n",
       "      <td>9</td>\n",
       "    </tr>\n",
       "    <tr>\n",
       "      <th>(50, 60]</th>\n",
       "      <td>8</td>\n",
       "    </tr>\n",
       "    <tr>\n",
       "      <th>(100, 110]</th>\n",
       "      <td>7</td>\n",
       "    </tr>\n",
       "    <tr>\n",
       "      <th>(80, 90]</th>\n",
       "      <td>6</td>\n",
       "    </tr>\n",
       "    <tr>\n",
       "      <th>(90, 100]</th>\n",
       "      <td>6</td>\n",
       "    </tr>\n",
       "    <tr>\n",
       "      <th>(110, 120]</th>\n",
       "      <td>6</td>\n",
       "    </tr>\n",
       "    <tr>\n",
       "      <th>(70, 80]</th>\n",
       "      <td>4</td>\n",
       "    </tr>\n",
       "    <tr>\n",
       "      <th>(40, 50]</th>\n",
       "      <td>3</td>\n",
       "    </tr>\n",
       "  </tbody>\n",
       "</table>\n",
       "</div>"
      ],
      "text/plain": [
       "            Runs\n",
       "(0, 10]       24\n",
       "(20, 30]      15\n",
       "(10, 20]      13\n",
       "(30, 40]      13\n",
       "(60, 70]       9\n",
       "(50, 60]       8\n",
       "(100, 110]     7\n",
       "(80, 90]       6\n",
       "(90, 100]      6\n",
       "(110, 120]     6\n",
       "(70, 80]       4\n",
       "(40, 50]       3"
      ]
     },
     "execution_count": 378,
     "metadata": {},
     "output_type": "execute_result"
    }
   ],
   "source": [
    "runs_bins"
   ]
  },
  {
   "cell_type": "markdown",
   "id": "7f8a86e3",
   "metadata": {},
   "source": [
    "# Finding Data in mins which is null and assigning the correct values by seggregating that to score a particular score on an average batsman has spent how much time"
   ]
  },
  {
   "cell_type": "code",
   "execution_count": 219,
   "id": "ecf5d364",
   "metadata": {},
   "outputs": [
    {
     "data": {
      "text/html": [
       "<div>\n",
       "<style scoped>\n",
       "    .dataframe tbody tr th:only-of-type {\n",
       "        vertical-align: middle;\n",
       "    }\n",
       "\n",
       "    .dataframe tbody tr th {\n",
       "        vertical-align: top;\n",
       "    }\n",
       "\n",
       "    .dataframe thead th {\n",
       "        text-align: right;\n",
       "    }\n",
       "</style>\n",
       "<table border=\"1\" class=\"dataframe\">\n",
       "  <thead>\n",
       "    <tr style=\"text-align: right;\">\n",
       "      <th></th>\n",
       "      <th>Runs</th>\n",
       "      <th>Mins</th>\n",
       "      <th>BF</th>\n",
       "      <th>4s</th>\n",
       "      <th>6s</th>\n",
       "      <th>SR</th>\n",
       "      <th>Pos</th>\n",
       "      <th>Dismissal</th>\n",
       "      <th>Inns</th>\n",
       "      <th>Opposition</th>\n",
       "      <th>Ground</th>\n",
       "      <th>Start Date</th>\n",
       "    </tr>\n",
       "  </thead>\n",
       "  <tbody>\n",
       "    <tr>\n",
       "      <th>10</th>\n",
       "      <td>107</td>\n",
       "      <td>NaN</td>\n",
       "      <td>114</td>\n",
       "      <td>11</td>\n",
       "      <td>1</td>\n",
       "      <td>93.85</td>\n",
       "      <td>4</td>\n",
       "      <td>caught</td>\n",
       "      <td>2</td>\n",
       "      <td>v Sri Lanka</td>\n",
       "      <td>Kolkata</td>\n",
       "      <td>24-Dec-09</td>\n",
       "    </tr>\n",
       "    <tr>\n",
       "      <th>13</th>\n",
       "      <td>31</td>\n",
       "      <td>NaN</td>\n",
       "      <td>46</td>\n",
       "      <td>1</td>\n",
       "      <td>0</td>\n",
       "      <td>67.39</td>\n",
       "      <td>5</td>\n",
       "      <td>caught</td>\n",
       "      <td>1</td>\n",
       "      <td>v South Africa</td>\n",
       "      <td>Jaipur</td>\n",
       "      <td>21-Feb-10</td>\n",
       "    </tr>\n",
       "    <tr>\n",
       "      <th>14</th>\n",
       "      <td>57</td>\n",
       "      <td>NaN</td>\n",
       "      <td>71</td>\n",
       "      <td>4</td>\n",
       "      <td>1</td>\n",
       "      <td>80.28</td>\n",
       "      <td>3</td>\n",
       "      <td>caught</td>\n",
       "      <td>2</td>\n",
       "      <td>v South Africa</td>\n",
       "      <td>Ahmedabad</td>\n",
       "      <td>27-Feb-10</td>\n",
       "    </tr>\n",
       "    <tr>\n",
       "      <th>51</th>\n",
       "      <td>86</td>\n",
       "      <td>NaN</td>\n",
       "      <td>99</td>\n",
       "      <td>11</td>\n",
       "      <td>0</td>\n",
       "      <td>86.86</td>\n",
       "      <td>4</td>\n",
       "      <td>not out</td>\n",
       "      <td>2</td>\n",
       "      <td>v England</td>\n",
       "      <td>Mumbai</td>\n",
       "      <td>23-Oct-11</td>\n",
       "    </tr>\n",
       "    <tr>\n",
       "      <th>105</th>\n",
       "      <td>49</td>\n",
       "      <td>NaN</td>\n",
       "      <td>44</td>\n",
       "      <td>2</td>\n",
       "      <td>2</td>\n",
       "      <td>111.36</td>\n",
       "      <td>4</td>\n",
       "      <td>caught</td>\n",
       "      <td>2</td>\n",
       "      <td>v Sri Lanka</td>\n",
       "      <td>Ahmedabad</td>\n",
       "      <td>6-Nov-14</td>\n",
       "    </tr>\n",
       "    <tr>\n",
       "      <th>106</th>\n",
       "      <td>53</td>\n",
       "      <td>NaN</td>\n",
       "      <td>61</td>\n",
       "      <td>4</td>\n",
       "      <td>1</td>\n",
       "      <td>86.88</td>\n",
       "      <td>4</td>\n",
       "      <td>caught</td>\n",
       "      <td>2</td>\n",
       "      <td>v Sri Lanka</td>\n",
       "      <td>Hyderabad (Deccan)</td>\n",
       "      <td>9-Nov-14</td>\n",
       "    </tr>\n",
       "  </tbody>\n",
       "</table>\n",
       "</div>"
      ],
      "text/plain": [
       "     Runs  Mins   BF  4s  6s      SR  Pos Dismissal  Inns      Opposition  \\\n",
       "10    107   NaN  114  11   1   93.85    4    caught     2     v Sri Lanka   \n",
       "13     31   NaN   46   1   0   67.39    5    caught     1  v South Africa   \n",
       "14     57   NaN   71   4   1   80.28    3    caught     2  v South Africa   \n",
       "51     86   NaN   99  11   0   86.86    4   not out     2       v England   \n",
       "105    49   NaN   44   2   2  111.36    4    caught     2     v Sri Lanka   \n",
       "106    53   NaN   61   4   1   86.88    4    caught     2     v Sri Lanka   \n",
       "\n",
       "                 Ground Start Date  \n",
       "10              Kolkata  24-Dec-09  \n",
       "13               Jaipur  21-Feb-10  \n",
       "14            Ahmedabad  27-Feb-10  \n",
       "51               Mumbai  23-Oct-11  \n",
       "105           Ahmedabad   6-Nov-14  \n",
       "106  Hyderabad (Deccan)   9-Nov-14  "
      ]
     },
     "execution_count": 219,
     "metadata": {},
     "output_type": "execute_result"
    }
   ],
   "source": [
    "df.loc[df.Mins.isnull()]"
   ]
  },
  {
   "cell_type": "code",
   "execution_count": 220,
   "id": "28624fcc",
   "metadata": {},
   "outputs": [],
   "source": [
    "a=df[(df.Runs>100) & (df.Runs <110)][\"Mins\"].mean()"
   ]
  },
  {
   "cell_type": "code",
   "execution_count": 221,
   "id": "79ba9264",
   "metadata": {},
   "outputs": [
    {
     "data": {
      "text/plain": [
       "129.5"
      ]
     },
     "execution_count": 221,
     "metadata": {},
     "output_type": "execute_result"
    }
   ],
   "source": [
    "df[(df.Runs>100) & (df.Runs <110)][\"Mins\"].median()"
   ]
  },
  {
   "cell_type": "code",
   "execution_count": 223,
   "id": "ecd72a38",
   "metadata": {},
   "outputs": [],
   "source": [
    "b=df[(df.Runs>80) & (df.Runs <90)][\"Mins\"].mean()"
   ]
  },
  {
   "cell_type": "code",
   "execution_count": 224,
   "id": "466e3344",
   "metadata": {},
   "outputs": [
    {
     "data": {
      "text/plain": [
       "120.0"
      ]
     },
     "execution_count": 224,
     "metadata": {},
     "output_type": "execute_result"
    }
   ],
   "source": [
    "df[(df.Runs>80) & (df.Runs <90)][\"Mins\"].median()"
   ]
  },
  {
   "cell_type": "code",
   "execution_count": 226,
   "id": "fc5f13de",
   "metadata": {},
   "outputs": [],
   "source": [
    "c=df[(df.Runs>50) & (df.Runs <60)][\"Mins\"].mean()"
   ]
  },
  {
   "cell_type": "code",
   "execution_count": 227,
   "id": "8f0e077d",
   "metadata": {},
   "outputs": [],
   "source": [
    "d=df[(df.Runs>40) & (df.Runs <50)][\"Mins\"].mean()"
   ]
  },
  {
   "cell_type": "code",
   "execution_count": 228,
   "id": "9aa48879",
   "metadata": {},
   "outputs": [],
   "source": [
    "e=df[(df.Runs>30) & (df.Runs <40)][\"Mins\"].mean()"
   ]
  },
  {
   "cell_type": "code",
   "execution_count": 229,
   "id": "73566f6d",
   "metadata": {},
   "outputs": [
    {
     "name": "stderr",
     "output_type": "stream",
     "text": [
      "C:\\Users\\CLYDEA~1\\AppData\\Local\\Temp/ipykernel_15460/797726646.py:1: SettingWithCopyWarning: \n",
      "A value is trying to be set on a copy of a slice from a DataFrame\n",
      "\n",
      "See the caveats in the documentation: https://pandas.pydata.org/pandas-docs/stable/user_guide/indexing.html#returning-a-view-versus-a-copy\n",
      "  df.Mins[10]=a\n"
     ]
    }
   ],
   "source": [
    "df.Mins[10]=a"
   ]
  },
  {
   "cell_type": "code",
   "execution_count": 230,
   "id": "1de63479",
   "metadata": {},
   "outputs": [
    {
     "data": {
      "text/plain": [
       "133.5"
      ]
     },
     "execution_count": 230,
     "metadata": {},
     "output_type": "execute_result"
    }
   ],
   "source": [
    "df.Mins[10]"
   ]
  },
  {
   "cell_type": "code",
   "execution_count": 231,
   "id": "27c5cc7b",
   "metadata": {},
   "outputs": [
    {
     "name": "stderr",
     "output_type": "stream",
     "text": [
      "C:\\Users\\CLYDEA~1\\AppData\\Local\\Temp/ipykernel_15460/1241544963.py:1: SettingWithCopyWarning: \n",
      "A value is trying to be set on a copy of a slice from a DataFrame\n",
      "\n",
      "See the caveats in the documentation: https://pandas.pydata.org/pandas-docs/stable/user_guide/indexing.html#returning-a-view-versus-a-copy\n",
      "  df.Mins[51]=b\n"
     ]
    }
   ],
   "source": [
    "df.Mins[51]=b"
   ]
  },
  {
   "cell_type": "code",
   "execution_count": 232,
   "id": "8b746421",
   "metadata": {},
   "outputs": [
    {
     "name": "stderr",
     "output_type": "stream",
     "text": [
      "C:\\Users\\CLYDEA~1\\AppData\\Local\\Temp/ipykernel_15460/3968328783.py:1: SettingWithCopyWarning: \n",
      "A value is trying to be set on a copy of a slice from a DataFrame\n",
      "\n",
      "See the caveats in the documentation: https://pandas.pydata.org/pandas-docs/stable/user_guide/indexing.html#returning-a-view-versus-a-copy\n",
      "  df.Mins[13]=e\n"
     ]
    }
   ],
   "source": [
    "df.Mins[13]=e"
   ]
  },
  {
   "cell_type": "code",
   "execution_count": 233,
   "id": "b4f51b6b",
   "metadata": {},
   "outputs": [
    {
     "name": "stderr",
     "output_type": "stream",
     "text": [
      "C:\\Users\\CLYDEA~1\\AppData\\Local\\Temp/ipykernel_15460/2341580066.py:1: SettingWithCopyWarning: \n",
      "A value is trying to be set on a copy of a slice from a DataFrame\n",
      "\n",
      "See the caveats in the documentation: https://pandas.pydata.org/pandas-docs/stable/user_guide/indexing.html#returning-a-view-versus-a-copy\n",
      "  df.Mins[14]=c\n"
     ]
    }
   ],
   "source": [
    "df.Mins[14]=c"
   ]
  },
  {
   "cell_type": "code",
   "execution_count": 234,
   "id": "0692441d",
   "metadata": {},
   "outputs": [
    {
     "name": "stderr",
     "output_type": "stream",
     "text": [
      "C:\\Users\\CLYDEA~1\\AppData\\Local\\Temp/ipykernel_15460/496540065.py:1: SettingWithCopyWarning: \n",
      "A value is trying to be set on a copy of a slice from a DataFrame\n",
      "\n",
      "See the caveats in the documentation: https://pandas.pydata.org/pandas-docs/stable/user_guide/indexing.html#returning-a-view-versus-a-copy\n",
      "  df.Mins[106]=c\n"
     ]
    }
   ],
   "source": [
    "df.Mins[106]=c"
   ]
  },
  {
   "cell_type": "code",
   "execution_count": 235,
   "id": "32ce5158",
   "metadata": {},
   "outputs": [
    {
     "name": "stderr",
     "output_type": "stream",
     "text": [
      "C:\\Users\\CLYDEA~1\\AppData\\Local\\Temp/ipykernel_15460/708003995.py:1: SettingWithCopyWarning: \n",
      "A value is trying to be set on a copy of a slice from a DataFrame\n",
      "\n",
      "See the caveats in the documentation: https://pandas.pydata.org/pandas-docs/stable/user_guide/indexing.html#returning-a-view-versus-a-copy\n",
      "  df.Mins[105]=d\n"
     ]
    }
   ],
   "source": [
    "df.Mins[105]=d"
   ]
  },
  {
   "cell_type": "code",
   "execution_count": 236,
   "id": "d6d24014",
   "metadata": {},
   "outputs": [
    {
     "data": {
      "text/html": [
       "<div>\n",
       "<style scoped>\n",
       "    .dataframe tbody tr th:only-of-type {\n",
       "        vertical-align: middle;\n",
       "    }\n",
       "\n",
       "    .dataframe tbody tr th {\n",
       "        vertical-align: top;\n",
       "    }\n",
       "\n",
       "    .dataframe thead th {\n",
       "        text-align: right;\n",
       "    }\n",
       "</style>\n",
       "<table border=\"1\" class=\"dataframe\">\n",
       "  <thead>\n",
       "    <tr style=\"text-align: right;\">\n",
       "      <th></th>\n",
       "      <th>Runs</th>\n",
       "      <th>Mins</th>\n",
       "      <th>BF</th>\n",
       "      <th>4s</th>\n",
       "      <th>6s</th>\n",
       "      <th>SR</th>\n",
       "      <th>Pos</th>\n",
       "      <th>Dismissal</th>\n",
       "      <th>Inns</th>\n",
       "      <th>Opposition</th>\n",
       "      <th>Ground</th>\n",
       "      <th>Start Date</th>\n",
       "    </tr>\n",
       "  </thead>\n",
       "  <tbody>\n",
       "  </tbody>\n",
       "</table>\n",
       "</div>"
      ],
      "text/plain": [
       "Empty DataFrame\n",
       "Columns: [Runs, Mins, BF, 4s, 6s, SR, Pos, Dismissal, Inns, Opposition, Ground, Start Date]\n",
       "Index: []"
      ]
     },
     "execution_count": 236,
     "metadata": {},
     "output_type": "execute_result"
    }
   ],
   "source": [
    "df.loc[df.Mins.isnull()]"
   ]
  },
  {
   "cell_type": "markdown",
   "id": "6491a181",
   "metadata": {},
   "source": [
    "# missing data in Mins has been duly filled"
   ]
  },
  {
   "cell_type": "code",
   "execution_count": null,
   "id": "b1bbba31",
   "metadata": {},
   "outputs": [],
   "source": []
  },
  {
   "cell_type": "markdown",
   "id": "3531078e",
   "metadata": {},
   "source": [
    "# an analysis of this shows that on an average the batsman spends 65-72 mins on crease if he has not got out within 9 mins."
   ]
  },
  {
   "cell_type": "code",
   "execution_count": 237,
   "id": "c36c1522",
   "metadata": {},
   "outputs": [
    {
     "name": "stdout",
     "output_type": "stream",
     "text": [
      "The mean of the Mins is 71.70562442607898\n",
      "The median of the Mins is 64.5\n",
      "The mode of the Mins is 9.0\n",
      "The standard deviation of the Mins is 56.4838371807021\n",
      "Number of missing values in the Mins is 0\n",
      "Max values in the Mins is 202.0\n",
      "Min values in the Mins is 1.0\n"
     ]
    }
   ],
   "source": [
    "info_of_numerical(\"Mins\")"
   ]
  },
  {
   "cell_type": "code",
   "execution_count": 114,
   "id": "26f2b2eb",
   "metadata": {},
   "outputs": [
    {
     "data": {
      "image/png": "[encoded data removed]",
      "text/plain": [
       "<Figure size 1440x504 with 2 Axes>"
      ]
     },
     "metadata": {
      "needs_background": "light"
     },
     "output_type": "display_data"
    }
   ],
   "source": [
    "spreadgraph(\"Mins\")"
   ]
  },
  {
   "cell_type": "code",
   "execution_count": 115,
   "id": "413f37ca",
   "metadata": {},
   "outputs": [
    {
     "name": "stdout",
     "output_type": "stream",
     "text": [
      "The mean of the BF is 50.871212121212125\n",
      "The median of the BF is 42.5\n",
      "The mode of the BF is 5\n",
      "The standard deviation of the BF is 38.729716248082056\n",
      "Number of missing values in the BF is 0\n",
      "Max values in the BF is 140\n",
      "Min values in the BF is 0\n"
     ]
    }
   ],
   "source": [
    "info_of_numerical(\"BF\")"
   ]
  },
  {
   "cell_type": "code",
   "execution_count": 380,
   "id": "85b630a9",
   "metadata": {},
   "outputs": [],
   "source": [
    "# the batsman on an average has faced 40-50 balls unless got out"
   ]
  },
  {
   "cell_type": "code",
   "execution_count": 116,
   "id": "53743aa6",
   "metadata": {},
   "outputs": [
    {
     "data": {
      "image/png": "[encoded data removed]",
      "text/plain": [
       "<Figure size 1440x504 with 2 Axes>"
      ]
     },
     "metadata": {
      "needs_background": "light"
     },
     "output_type": "display_data"
    }
   ],
   "source": [
    "spreadgraph(\"BF\")"
   ]
  },
  {
   "cell_type": "code",
   "execution_count": 157,
   "id": "d438dd49",
   "metadata": {},
   "outputs": [
    {
     "name": "stdout",
     "output_type": "stream",
     "text": [
      "The mean of the SR is 77.57893129770991\n",
      "The median of the SR is 78.78\n",
      "The mode of the SR is 0.0\n",
      "The standard deviation of the SR is 37.410776301280826\n",
      "Number of missing values in the SR is 1\n",
      "Max values in the SR is 209.09\n",
      "Min values in the SR is 0.0\n"
     ]
    }
   ],
   "source": [
    "info_of_numerical(\"SR\")"
   ]
  },
  {
   "cell_type": "code",
   "execution_count": 381,
   "id": "6fa44b7b",
   "metadata": {},
   "outputs": [],
   "source": [
    "# The strike rate of batsman is 78 that is for 100 balls faced he has scored 78 on an average"
   ]
  },
  {
   "cell_type": "code",
   "execution_count": null,
   "id": "668e1cb6",
   "metadata": {},
   "outputs": [],
   "source": [
    "# based on this changed the sr column "
   ]
  },
  {
   "cell_type": "code",
   "execution_count": null,
   "id": "2a100bc0",
   "metadata": {},
   "outputs": [],
   "source": [
    "# realised that missing value is actually 0 "
   ]
  },
  {
   "cell_type": "code",
   "execution_count": 158,
   "id": "0264c0dd",
   "metadata": {},
   "outputs": [
    {
     "data": {
      "text/html": [
       "<div>\n",
       "<style scoped>\n",
       "    .dataframe tbody tr th:only-of-type {\n",
       "        vertical-align: middle;\n",
       "    }\n",
       "\n",
       "    .dataframe tbody tr th {\n",
       "        vertical-align: top;\n",
       "    }\n",
       "\n",
       "    .dataframe thead th {\n",
       "        text-align: right;\n",
       "    }\n",
       "</style>\n",
       "<table border=\"1\" class=\"dataframe\">\n",
       "  <thead>\n",
       "    <tr style=\"text-align: right;\">\n",
       "      <th></th>\n",
       "      <th>Runs</th>\n",
       "      <th>Mins</th>\n",
       "      <th>BF</th>\n",
       "      <th>4s</th>\n",
       "      <th>6s</th>\n",
       "      <th>SR</th>\n",
       "      <th>Pos</th>\n",
       "      <th>Dismissal</th>\n",
       "      <th>Inns</th>\n",
       "      <th>Opposition</th>\n",
       "      <th>Ground</th>\n",
       "      <th>Start Date</th>\n",
       "    </tr>\n",
       "  </thead>\n",
       "  <tbody>\n",
       "    <tr>\n",
       "      <th>0</th>\n",
       "      <td>12</td>\n",
       "      <td>33.0</td>\n",
       "      <td>22</td>\n",
       "      <td>1</td>\n",
       "      <td>0</td>\n",
       "      <td>54.54</td>\n",
       "      <td>2</td>\n",
       "      <td>lbw</td>\n",
       "      <td>1</td>\n",
       "      <td>v Sri Lanka</td>\n",
       "      <td>Dambulla</td>\n",
       "      <td>18-Aug-08</td>\n",
       "    </tr>\n",
       "    <tr>\n",
       "      <th>1</th>\n",
       "      <td>37</td>\n",
       "      <td>82.0</td>\n",
       "      <td>67</td>\n",
       "      <td>6</td>\n",
       "      <td>0</td>\n",
       "      <td>55.22</td>\n",
       "      <td>2</td>\n",
       "      <td>caught</td>\n",
       "      <td>2</td>\n",
       "      <td>v Sri Lanka</td>\n",
       "      <td>Dambulla</td>\n",
       "      <td>20-Aug-08</td>\n",
       "    </tr>\n",
       "    <tr>\n",
       "      <th>2</th>\n",
       "      <td>25</td>\n",
       "      <td>40.0</td>\n",
       "      <td>38</td>\n",
       "      <td>4</td>\n",
       "      <td>0</td>\n",
       "      <td>65.78</td>\n",
       "      <td>1</td>\n",
       "      <td>run out</td>\n",
       "      <td>1</td>\n",
       "      <td>v Sri Lanka</td>\n",
       "      <td>Colombo (RPS)</td>\n",
       "      <td>24-Aug-08</td>\n",
       "    </tr>\n",
       "    <tr>\n",
       "      <th>3</th>\n",
       "      <td>54</td>\n",
       "      <td>87.0</td>\n",
       "      <td>66</td>\n",
       "      <td>7</td>\n",
       "      <td>0</td>\n",
       "      <td>81.81</td>\n",
       "      <td>1</td>\n",
       "      <td>bowled</td>\n",
       "      <td>1</td>\n",
       "      <td>v Sri Lanka</td>\n",
       "      <td>Colombo (RPS)</td>\n",
       "      <td>27-Aug-08</td>\n",
       "    </tr>\n",
       "    <tr>\n",
       "      <th>4</th>\n",
       "      <td>31</td>\n",
       "      <td>45.0</td>\n",
       "      <td>46</td>\n",
       "      <td>3</td>\n",
       "      <td>1</td>\n",
       "      <td>67.39</td>\n",
       "      <td>1</td>\n",
       "      <td>lbw</td>\n",
       "      <td>2</td>\n",
       "      <td>v Sri Lanka</td>\n",
       "      <td>Colombo (RPS)</td>\n",
       "      <td>29-Aug-08</td>\n",
       "    </tr>\n",
       "  </tbody>\n",
       "</table>\n",
       "</div>"
      ],
      "text/plain": [
       "   Runs  Mins  BF  4s  6s     SR  Pos Dismissal  Inns   Opposition  \\\n",
       "0    12  33.0  22   1   0  54.54    2       lbw     1  v Sri Lanka   \n",
       "1    37  82.0  67   6   0  55.22    2    caught     2  v Sri Lanka   \n",
       "2    25  40.0  38   4   0  65.78    1   run out     1  v Sri Lanka   \n",
       "3    54  87.0  66   7   0  81.81    1    bowled     1  v Sri Lanka   \n",
       "4    31  45.0  46   3   1  67.39    1       lbw     2  v Sri Lanka   \n",
       "\n",
       "          Ground Start Date  \n",
       "0       Dambulla  18-Aug-08  \n",
       "1       Dambulla  20-Aug-08  \n",
       "2  Colombo (RPS)  24-Aug-08  \n",
       "3  Colombo (RPS)  27-Aug-08  \n",
       "4  Colombo (RPS)  29-Aug-08  "
      ]
     },
     "execution_count": 158,
     "metadata": {},
     "output_type": "execute_result"
    }
   ],
   "source": [
    "df.head()"
   ]
  },
  {
   "cell_type": "code",
   "execution_count": 162,
   "id": "782135d2",
   "metadata": {},
   "outputs": [],
   "source": [
    "strike_rate=np.round(df.Runs/df.BF*100,2)"
   ]
  },
  {
   "cell_type": "code",
   "execution_count": 163,
   "id": "5805da1a",
   "metadata": {},
   "outputs": [],
   "source": [
    "df.SR=strike_rate"
   ]
  },
  {
   "cell_type": "code",
   "execution_count": 164,
   "id": "dcd2c528",
   "metadata": {},
   "outputs": [
    {
     "data": {
      "text/html": [
       "<div>\n",
       "<style scoped>\n",
       "    .dataframe tbody tr th:only-of-type {\n",
       "        vertical-align: middle;\n",
       "    }\n",
       "\n",
       "    .dataframe tbody tr th {\n",
       "        vertical-align: top;\n",
       "    }\n",
       "\n",
       "    .dataframe thead th {\n",
       "        text-align: right;\n",
       "    }\n",
       "</style>\n",
       "<table border=\"1\" class=\"dataframe\">\n",
       "  <thead>\n",
       "    <tr style=\"text-align: right;\">\n",
       "      <th></th>\n",
       "      <th>Runs</th>\n",
       "      <th>Mins</th>\n",
       "      <th>BF</th>\n",
       "      <th>4s</th>\n",
       "      <th>6s</th>\n",
       "      <th>SR</th>\n",
       "      <th>Pos</th>\n",
       "      <th>Dismissal</th>\n",
       "      <th>Inns</th>\n",
       "      <th>Opposition</th>\n",
       "      <th>Ground</th>\n",
       "      <th>Start Date</th>\n",
       "    </tr>\n",
       "  </thead>\n",
       "  <tbody>\n",
       "    <tr>\n",
       "      <th>0</th>\n",
       "      <td>12</td>\n",
       "      <td>33.0</td>\n",
       "      <td>22</td>\n",
       "      <td>1</td>\n",
       "      <td>0</td>\n",
       "      <td>54.55</td>\n",
       "      <td>2</td>\n",
       "      <td>lbw</td>\n",
       "      <td>1</td>\n",
       "      <td>v Sri Lanka</td>\n",
       "      <td>Dambulla</td>\n",
       "      <td>18-Aug-08</td>\n",
       "    </tr>\n",
       "    <tr>\n",
       "      <th>1</th>\n",
       "      <td>37</td>\n",
       "      <td>82.0</td>\n",
       "      <td>67</td>\n",
       "      <td>6</td>\n",
       "      <td>0</td>\n",
       "      <td>55.22</td>\n",
       "      <td>2</td>\n",
       "      <td>caught</td>\n",
       "      <td>2</td>\n",
       "      <td>v Sri Lanka</td>\n",
       "      <td>Dambulla</td>\n",
       "      <td>20-Aug-08</td>\n",
       "    </tr>\n",
       "    <tr>\n",
       "      <th>2</th>\n",
       "      <td>25</td>\n",
       "      <td>40.0</td>\n",
       "      <td>38</td>\n",
       "      <td>4</td>\n",
       "      <td>0</td>\n",
       "      <td>65.79</td>\n",
       "      <td>1</td>\n",
       "      <td>run out</td>\n",
       "      <td>1</td>\n",
       "      <td>v Sri Lanka</td>\n",
       "      <td>Colombo (RPS)</td>\n",
       "      <td>24-Aug-08</td>\n",
       "    </tr>\n",
       "    <tr>\n",
       "      <th>3</th>\n",
       "      <td>54</td>\n",
       "      <td>87.0</td>\n",
       "      <td>66</td>\n",
       "      <td>7</td>\n",
       "      <td>0</td>\n",
       "      <td>81.82</td>\n",
       "      <td>1</td>\n",
       "      <td>bowled</td>\n",
       "      <td>1</td>\n",
       "      <td>v Sri Lanka</td>\n",
       "      <td>Colombo (RPS)</td>\n",
       "      <td>27-Aug-08</td>\n",
       "    </tr>\n",
       "    <tr>\n",
       "      <th>4</th>\n",
       "      <td>31</td>\n",
       "      <td>45.0</td>\n",
       "      <td>46</td>\n",
       "      <td>3</td>\n",
       "      <td>1</td>\n",
       "      <td>67.39</td>\n",
       "      <td>1</td>\n",
       "      <td>lbw</td>\n",
       "      <td>2</td>\n",
       "      <td>v Sri Lanka</td>\n",
       "      <td>Colombo (RPS)</td>\n",
       "      <td>29-Aug-08</td>\n",
       "    </tr>\n",
       "  </tbody>\n",
       "</table>\n",
       "</div>"
      ],
      "text/plain": [
       "   Runs  Mins  BF  4s  6s     SR  Pos Dismissal  Inns   Opposition  \\\n",
       "0    12  33.0  22   1   0  54.55    2       lbw     1  v Sri Lanka   \n",
       "1    37  82.0  67   6   0  55.22    2    caught     2  v Sri Lanka   \n",
       "2    25  40.0  38   4   0  65.79    1   run out     1  v Sri Lanka   \n",
       "3    54  87.0  66   7   0  81.82    1    bowled     1  v Sri Lanka   \n",
       "4    31  45.0  46   3   1  67.39    1       lbw     2  v Sri Lanka   \n",
       "\n",
       "          Ground Start Date  \n",
       "0       Dambulla  18-Aug-08  \n",
       "1       Dambulla  20-Aug-08  \n",
       "2  Colombo (RPS)  24-Aug-08  \n",
       "3  Colombo (RPS)  27-Aug-08  \n",
       "4  Colombo (RPS)  29-Aug-08  "
      ]
     },
     "execution_count": 164,
     "metadata": {},
     "output_type": "execute_result"
    }
   ],
   "source": [
    "df.head()"
   ]
  },
  {
   "cell_type": "code",
   "execution_count": 165,
   "id": "998c293d",
   "metadata": {},
   "outputs": [
    {
     "name": "stdout",
     "output_type": "stream",
     "text": [
      "The mean of the SR is 77.58290076335881\n",
      "The median of the SR is 78.79\n",
      "The mode of the SR is 0.0\n",
      "The standard deviation of the SR is 37.41173002987883\n",
      "Number of missing values in the SR is 1\n",
      "Max values in the SR is 209.09\n",
      "Min values in the SR is 0.0\n"
     ]
    }
   ],
   "source": [
    "info_of_numerical(\"SR\")"
   ]
  },
  {
   "cell_type": "code",
   "execution_count": 238,
   "id": "a820bb89",
   "metadata": {},
   "outputs": [
    {
     "data": {
      "text/html": [
       "<div>\n",
       "<style scoped>\n",
       "    .dataframe tbody tr th:only-of-type {\n",
       "        vertical-align: middle;\n",
       "    }\n",
       "\n",
       "    .dataframe tbody tr th {\n",
       "        vertical-align: top;\n",
       "    }\n",
       "\n",
       "    .dataframe thead th {\n",
       "        text-align: right;\n",
       "    }\n",
       "</style>\n",
       "<table border=\"1\" class=\"dataframe\">\n",
       "  <thead>\n",
       "    <tr style=\"text-align: right;\">\n",
       "      <th></th>\n",
       "      <th>Runs</th>\n",
       "      <th>Mins</th>\n",
       "      <th>BF</th>\n",
       "      <th>4s</th>\n",
       "      <th>6s</th>\n",
       "      <th>SR</th>\n",
       "      <th>Pos</th>\n",
       "      <th>Dismissal</th>\n",
       "      <th>Inns</th>\n",
       "      <th>Opposition</th>\n",
       "      <th>Ground</th>\n",
       "      <th>Start Date</th>\n",
       "    </tr>\n",
       "  </thead>\n",
       "  <tbody>\n",
       "    <tr>\n",
       "      <th>15</th>\n",
       "      <td>0</td>\n",
       "      <td>3.0</td>\n",
       "      <td>0</td>\n",
       "      <td>0</td>\n",
       "      <td>0</td>\n",
       "      <td>NaN</td>\n",
       "      <td>3</td>\n",
       "      <td>run out</td>\n",
       "      <td>1</td>\n",
       "      <td>v Zimbabwe</td>\n",
       "      <td>Bulawayo</td>\n",
       "      <td>28-May-10</td>\n",
       "    </tr>\n",
       "  </tbody>\n",
       "</table>\n",
       "</div>"
      ],
      "text/plain": [
       "    Runs  Mins  BF  4s  6s  SR  Pos Dismissal  Inns  Opposition    Ground  \\\n",
       "15     0   3.0   0   0   0 NaN    3   run out     1  v Zimbabwe  Bulawayo   \n",
       "\n",
       "   Start Date  \n",
       "15  28-May-10  "
      ]
     },
     "execution_count": 238,
     "metadata": {},
     "output_type": "execute_result"
    }
   ],
   "source": [
    "df.loc[df.SR.isnull()]"
   ]
  },
  {
   "cell_type": "code",
   "execution_count": 239,
   "id": "4c19987e",
   "metadata": {},
   "outputs": [
    {
     "name": "stderr",
     "output_type": "stream",
     "text": [
      "C:\\Users\\CLYDEA~1\\AppData\\Local\\Temp/ipykernel_15460/210346122.py:1: SettingWithCopyWarning: \n",
      "A value is trying to be set on a copy of a slice from a DataFrame\n",
      "\n",
      "See the caveats in the documentation: https://pandas.pydata.org/pandas-docs/stable/user_guide/indexing.html#returning-a-view-versus-a-copy\n",
      "  df.SR[15]=0\n"
     ]
    }
   ],
   "source": [
    "df.SR[15]=0"
   ]
  },
  {
   "cell_type": "code",
   "execution_count": 240,
   "id": "b09ea757",
   "metadata": {},
   "outputs": [
    {
     "data": {
      "text/html": [
       "<div>\n",
       "<style scoped>\n",
       "    .dataframe tbody tr th:only-of-type {\n",
       "        vertical-align: middle;\n",
       "    }\n",
       "\n",
       "    .dataframe tbody tr th {\n",
       "        vertical-align: top;\n",
       "    }\n",
       "\n",
       "    .dataframe thead th {\n",
       "        text-align: right;\n",
       "    }\n",
       "</style>\n",
       "<table border=\"1\" class=\"dataframe\">\n",
       "  <thead>\n",
       "    <tr style=\"text-align: right;\">\n",
       "      <th></th>\n",
       "      <th>Runs</th>\n",
       "      <th>Mins</th>\n",
       "      <th>BF</th>\n",
       "      <th>4s</th>\n",
       "      <th>6s</th>\n",
       "      <th>SR</th>\n",
       "      <th>Pos</th>\n",
       "      <th>Dismissal</th>\n",
       "      <th>Inns</th>\n",
       "      <th>Opposition</th>\n",
       "      <th>Ground</th>\n",
       "      <th>Start Date</th>\n",
       "    </tr>\n",
       "  </thead>\n",
       "  <tbody>\n",
       "  </tbody>\n",
       "</table>\n",
       "</div>"
      ],
      "text/plain": [
       "Empty DataFrame\n",
       "Columns: [Runs, Mins, BF, 4s, 6s, SR, Pos, Dismissal, Inns, Opposition, Ground, Start Date]\n",
       "Index: []"
      ]
     },
     "execution_count": 240,
     "metadata": {},
     "output_type": "execute_result"
    }
   ],
   "source": [
    "df.loc[df.SR.isnull()]"
   ]
  },
  {
   "cell_type": "code",
   "execution_count": 241,
   "id": "e74f3dfb",
   "metadata": {},
   "outputs": [],
   "source": [
    "virat=df"
   ]
  },
  {
   "cell_type": "code",
   "execution_count": 242,
   "id": "56f42c47",
   "metadata": {},
   "outputs": [
    {
     "data": {
      "text/html": [
       "<div>\n",
       "<style scoped>\n",
       "    .dataframe tbody tr th:only-of-type {\n",
       "        vertical-align: middle;\n",
       "    }\n",
       "\n",
       "    .dataframe tbody tr th {\n",
       "        vertical-align: top;\n",
       "    }\n",
       "\n",
       "    .dataframe thead th {\n",
       "        text-align: right;\n",
       "    }\n",
       "</style>\n",
       "<table border=\"1\" class=\"dataframe\">\n",
       "  <thead>\n",
       "    <tr style=\"text-align: right;\">\n",
       "      <th></th>\n",
       "      <th>Runs</th>\n",
       "      <th>Mins</th>\n",
       "      <th>BF</th>\n",
       "      <th>4s</th>\n",
       "      <th>6s</th>\n",
       "      <th>SR</th>\n",
       "      <th>Pos</th>\n",
       "      <th>Dismissal</th>\n",
       "      <th>Inns</th>\n",
       "      <th>Opposition</th>\n",
       "      <th>Ground</th>\n",
       "      <th>Start Date</th>\n",
       "    </tr>\n",
       "  </thead>\n",
       "  <tbody>\n",
       "    <tr>\n",
       "      <th>0</th>\n",
       "      <td>12</td>\n",
       "      <td>33.0</td>\n",
       "      <td>22</td>\n",
       "      <td>1</td>\n",
       "      <td>0</td>\n",
       "      <td>54.54</td>\n",
       "      <td>2</td>\n",
       "      <td>lbw</td>\n",
       "      <td>1</td>\n",
       "      <td>v Sri Lanka</td>\n",
       "      <td>Dambulla</td>\n",
       "      <td>18-Aug-08</td>\n",
       "    </tr>\n",
       "    <tr>\n",
       "      <th>1</th>\n",
       "      <td>37</td>\n",
       "      <td>82.0</td>\n",
       "      <td>67</td>\n",
       "      <td>6</td>\n",
       "      <td>0</td>\n",
       "      <td>55.22</td>\n",
       "      <td>2</td>\n",
       "      <td>caught</td>\n",
       "      <td>2</td>\n",
       "      <td>v Sri Lanka</td>\n",
       "      <td>Dambulla</td>\n",
       "      <td>20-Aug-08</td>\n",
       "    </tr>\n",
       "    <tr>\n",
       "      <th>2</th>\n",
       "      <td>25</td>\n",
       "      <td>40.0</td>\n",
       "      <td>38</td>\n",
       "      <td>4</td>\n",
       "      <td>0</td>\n",
       "      <td>65.78</td>\n",
       "      <td>1</td>\n",
       "      <td>run out</td>\n",
       "      <td>1</td>\n",
       "      <td>v Sri Lanka</td>\n",
       "      <td>Colombo (RPS)</td>\n",
       "      <td>24-Aug-08</td>\n",
       "    </tr>\n",
       "    <tr>\n",
       "      <th>3</th>\n",
       "      <td>54</td>\n",
       "      <td>87.0</td>\n",
       "      <td>66</td>\n",
       "      <td>7</td>\n",
       "      <td>0</td>\n",
       "      <td>81.81</td>\n",
       "      <td>1</td>\n",
       "      <td>bowled</td>\n",
       "      <td>1</td>\n",
       "      <td>v Sri Lanka</td>\n",
       "      <td>Colombo (RPS)</td>\n",
       "      <td>27-Aug-08</td>\n",
       "    </tr>\n",
       "    <tr>\n",
       "      <th>4</th>\n",
       "      <td>31</td>\n",
       "      <td>45.0</td>\n",
       "      <td>46</td>\n",
       "      <td>3</td>\n",
       "      <td>1</td>\n",
       "      <td>67.39</td>\n",
       "      <td>1</td>\n",
       "      <td>lbw</td>\n",
       "      <td>2</td>\n",
       "      <td>v Sri Lanka</td>\n",
       "      <td>Colombo (RPS)</td>\n",
       "      <td>29-Aug-08</td>\n",
       "    </tr>\n",
       "  </tbody>\n",
       "</table>\n",
       "</div>"
      ],
      "text/plain": [
       "   Runs  Mins  BF  4s  6s     SR  Pos Dismissal  Inns   Opposition  \\\n",
       "0    12  33.0  22   1   0  54.54    2       lbw     1  v Sri Lanka   \n",
       "1    37  82.0  67   6   0  55.22    2    caught     2  v Sri Lanka   \n",
       "2    25  40.0  38   4   0  65.78    1   run out     1  v Sri Lanka   \n",
       "3    54  87.0  66   7   0  81.81    1    bowled     1  v Sri Lanka   \n",
       "4    31  45.0  46   3   1  67.39    1       lbw     2  v Sri Lanka   \n",
       "\n",
       "          Ground Start Date  \n",
       "0       Dambulla  18-Aug-08  \n",
       "1       Dambulla  20-Aug-08  \n",
       "2  Colombo (RPS)  24-Aug-08  \n",
       "3  Colombo (RPS)  27-Aug-08  \n",
       "4  Colombo (RPS)  29-Aug-08  "
      ]
     },
     "execution_count": 242,
     "metadata": {},
     "output_type": "execute_result"
    }
   ],
   "source": [
    "virat.head()"
   ]
  },
  {
   "cell_type": "code",
   "execution_count": 169,
   "id": "964ab30c",
   "metadata": {},
   "outputs": [
    {
     "name": "stdout",
     "output_type": "stream",
     "text": [
      "The mean of the SR is 76.99515151515155\n",
      "The median of the SR is 78.715\n",
      "The mode of the SR is 0.0\n",
      "The standard deviation of the SR is 37.875487843276424\n",
      "Number of missing values in the SR is 0\n",
      "Max values in the SR is 209.09\n",
      "Min values in the SR is 0.0\n"
     ]
    }
   ],
   "source": [
    "info_of_numerical(\"SR\")"
   ]
  },
  {
   "cell_type": "code",
   "execution_count": 170,
   "id": "6191c79c",
   "metadata": {},
   "outputs": [
    {
     "data": {
      "image/png": "[encoded data removed]",
      "text/plain": [
       "<Figure size 1440x504 with 2 Axes>"
      ]
     },
     "metadata": {
      "needs_background": "light"
     },
     "output_type": "display_data"
    }
   ],
   "source": [
    "spreadgraph(\"SR\")"
   ]
  },
  {
   "cell_type": "code",
   "execution_count": null,
   "id": "3d0988f3",
   "metadata": {},
   "outputs": [],
   "source": [
    "# there are a few outliers showing exceptional performance but data is normally distributed showing reliability in performance \n",
    "# where we see a strike rate of 77 is expected in most cases subject to balls faced"
   ]
  },
  {
   "cell_type": "code",
   "execution_count": null,
   "id": "6a32bbdf",
   "metadata": {},
   "outputs": [],
   "source": [
    "# I WANT TO KNOW HOW MANY MATCHES HAS HE PLAYED\n",
    "# I WANT TO KNOW TOTAL RUNS MADE\n",
    "# AVERAGE SCORE\n",
    "# HOW MANY BOUNDARIES\n",
    "# HOW MANY 6S\n",
    "# HOW MANY CENTURIES \n",
    "# HOW MANY HALF CENTURIES\n",
    "# BATTING LINE UP TOTAL AND AVERAGE SCORE\n",
    "# BEST PERFORMANCE WAS AGT WHOM\n",
    "# WORST PERFORMANCE WAS AGT WHOM\n",
    "# WHAT IS THE SPREAD OF HIS RUNS\n",
    "# SPREAD OF RUNRATE\n",
    "# COUNT OF DIFFERENT DISMISSALS\n",
    "# IS THERE A CORRELATION BETWEEN TIME SPENT AT CREASE AND RUNS\n",
    "# IS THERE A CORRELATION BETWEEN BALLS FACED AND RUNS\n",
    "# IS THERE A CORRELATION BETWEEN TIME SPENT AT CREASE AND DISMISSAL\n",
    "# COMPETITOR WISE PERFORMANCE\n",
    "# POSITION WISE PERFORMANCE\n",
    "# GROUND WISE PERFORMANCE\n",
    "# WHEN HE HAS HIT A LOT OF SIXERS HAS HE GOT CAUGHT\n",
    "# WHEN HE HAS SPENT A LOT OF TIME AT CREASE HE HAS A CHANCE OF RUNOUT\n",
    "# ANNUAL PERFORMANCE NO OF MATCHES, TOTAL SCORE AVERAGE SCORE \n"
   ]
  },
  {
   "cell_type": "code",
   "execution_count": 120,
   "id": "5a748c5b",
   "metadata": {},
   "outputs": [
    {
     "name": "stdout",
     "output_type": "stream",
     "text": [
      "Number of Matches played by Virat from Aug 8 till Aug 17: 131\n"
     ]
    }
   ],
   "source": [
    "# I WANT TO KNOW HOW MANY MATCHES HAS HE PLAYED\n",
    "print(\"Number of Matches played by Virat from Aug 8 till Aug 17:\",df.shape[0]-1)"
   ]
  },
  {
   "cell_type": "code",
   "execution_count": 123,
   "id": "4316767d",
   "metadata": {},
   "outputs": [
    {
     "name": "stdout",
     "output_type": "stream",
     "text": [
      "Runs scored by Virat from Aug 8 till Aug 17: 6184\n"
     ]
    }
   ],
   "source": [
    "# I WANT TO KNOW TOTAL RUNS MADE\n",
    "print(\"Runs scored by Virat from Aug 8 till Aug 17:\",df[\"Runs\"].sum())"
   ]
  },
  {
   "cell_type": "code",
   "execution_count": 125,
   "id": "e2966f9b",
   "metadata": {},
   "outputs": [
    {
     "name": "stdout",
     "output_type": "stream",
     "text": [
      " Average Runs scored by Virat from Aug 8 till Aug 17: 46.85\n"
     ]
    }
   ],
   "source": [
    "# AVERAGE SCORE\n",
    "print(\" Average Runs scored by Virat from Aug 8 till Aug 17:\",np.round(df[\"Runs\"].mean(),2))"
   ]
  },
  {
   "cell_type": "code",
   "execution_count": 127,
   "id": "4e5e2cdd",
   "metadata": {},
   "outputs": [
    {
     "name": "stdout",
     "output_type": "stream",
     "text": [
      " Boundaries scored by Virat from Aug 8 till Aug 17: 577\n"
     ]
    }
   ],
   "source": [
    "# HOW MANY BOUNDARIES\n",
    "print(\" Boundaries scored by Virat from Aug 8 till Aug 17:\",np.round(df[\"4s\"].sum(),2))"
   ]
  },
  {
   "cell_type": "code",
   "execution_count": 128,
   "id": "ce717b54",
   "metadata": {},
   "outputs": [
    {
     "name": "stdout",
     "output_type": "stream",
     "text": [
      " Sixers scored by Virat from Aug 8 till Aug 17: 72\n"
     ]
    }
   ],
   "source": [
    "# HOW MANY SIXERS\n",
    "print(\" Sixers scored by Virat from Aug 8 till Aug 17:\",np.round(df[\"6s\"].sum(),2))"
   ]
  },
  {
   "cell_type": "code",
   "execution_count": 143,
   "id": "11f8d240",
   "metadata": {},
   "outputs": [
    {
     "name": "stdout",
     "output_type": "stream",
     "text": [
      " Centuries scored by Virat from Aug 8 till Aug 17: 23\n"
     ]
    }
   ],
   "source": [
    "# HOW MANY CENTURIES \n",
    "print(\" Centuries scored by Virat from Aug 8 till Aug 17:\",df[\"Runs\"][df.Runs>99].count())"
   ]
  },
  {
   "cell_type": "code",
   "execution_count": 145,
   "id": "bcaeb444",
   "metadata": {},
   "outputs": [
    {
     "name": "stdout",
     "output_type": "stream",
     "text": [
      " Half Centuries scored by Virat from Aug 8 till Aug 17: 30\n"
     ]
    }
   ],
   "source": [
    "# HOW MANY HALF CENTURIES\n",
    "print(\" Half Centuries scored by Virat from Aug 8 till Aug 17:\",df[\"Runs\"][(df.Runs>49)&(df.Runs<99)].count())"
   ]
  },
  {
   "cell_type": "code",
   "execution_count": 186,
   "id": "023378da",
   "metadata": {},
   "outputs": [
    {
     "data": {
      "text/html": [
       "<div>\n",
       "<style scoped>\n",
       "    .dataframe tbody tr th:only-of-type {\n",
       "        vertical-align: middle;\n",
       "    }\n",
       "\n",
       "    .dataframe tbody tr th {\n",
       "        vertical-align: top;\n",
       "    }\n",
       "\n",
       "    .dataframe thead th {\n",
       "        text-align: right;\n",
       "    }\n",
       "</style>\n",
       "<table border=\"1\" class=\"dataframe\">\n",
       "  <thead>\n",
       "    <tr style=\"text-align: right;\">\n",
       "      <th></th>\n",
       "      <th>count</th>\n",
       "      <th>sum</th>\n",
       "      <th>mean</th>\n",
       "    </tr>\n",
       "    <tr>\n",
       "      <th>Pos</th>\n",
       "      <th></th>\n",
       "      <th></th>\n",
       "      <th></th>\n",
       "    </tr>\n",
       "  </thead>\n",
       "  <tbody>\n",
       "    <tr>\n",
       "      <th>7</th>\n",
       "      <td>3</td>\n",
       "      <td>30</td>\n",
       "      <td>10.000000</td>\n",
       "    </tr>\n",
       "    <tr>\n",
       "      <th>2</th>\n",
       "      <td>3</td>\n",
       "      <td>51</td>\n",
       "      <td>17.000000</td>\n",
       "    </tr>\n",
       "    <tr>\n",
       "      <th>6</th>\n",
       "      <td>1</td>\n",
       "      <td>23</td>\n",
       "      <td>23.000000</td>\n",
       "    </tr>\n",
       "    <tr>\n",
       "      <th>1</th>\n",
       "      <td>3</td>\n",
       "      <td>110</td>\n",
       "      <td>36.666667</td>\n",
       "    </tr>\n",
       "    <tr>\n",
       "      <th>5</th>\n",
       "      <td>3</td>\n",
       "      <td>123</td>\n",
       "      <td>41.000000</td>\n",
       "    </tr>\n",
       "    <tr>\n",
       "      <th>4</th>\n",
       "      <td>28</td>\n",
       "      <td>1370</td>\n",
       "      <td>48.928571</td>\n",
       "    </tr>\n",
       "    <tr>\n",
       "      <th>3</th>\n",
       "      <td>91</td>\n",
       "      <td>4477</td>\n",
       "      <td>49.197802</td>\n",
       "    </tr>\n",
       "  </tbody>\n",
       "</table>\n",
       "</div>"
      ],
      "text/plain": [
       "     count   sum       mean\n",
       "Pos                        \n",
       "7        3    30  10.000000\n",
       "2        3    51  17.000000\n",
       "6        1    23  23.000000\n",
       "1        3   110  36.666667\n",
       "5        3   123  41.000000\n",
       "4       28  1370  48.928571\n",
       "3       91  4477  49.197802"
      ]
     },
     "execution_count": 186,
     "metadata": {},
     "output_type": "execute_result"
    }
   ],
   "source": [
    "# BATTING LINE UP TOTAL AND AVERAGE SCORE\n",
    "# POSITION WISE PERFORMANCE\n",
    "df[\"Runs\"].groupby(df[\"Pos\"]).aggregate([\"count\",\"sum\" ,\"mean\"]).sort_values(\"mean\")"
   ]
  },
  {
   "cell_type": "code",
   "execution_count": 154,
   "id": "f7e3fbc6",
   "metadata": {},
   "outputs": [
    {
     "data": {
      "text/html": [
       "<div>\n",
       "<style scoped>\n",
       "    .dataframe tbody tr th:only-of-type {\n",
       "        vertical-align: middle;\n",
       "    }\n",
       "\n",
       "    .dataframe tbody tr th {\n",
       "        vertical-align: top;\n",
       "    }\n",
       "\n",
       "    .dataframe thead th {\n",
       "        text-align: right;\n",
       "    }\n",
       "</style>\n",
       "<table border=\"1\" class=\"dataframe\">\n",
       "  <thead>\n",
       "    <tr style=\"text-align: right;\">\n",
       "      <th></th>\n",
       "      <th>count</th>\n",
       "      <th>sum</th>\n",
       "      <th>mean</th>\n",
       "    </tr>\n",
       "    <tr>\n",
       "      <th>Opposition</th>\n",
       "      <th></th>\n",
       "      <th></th>\n",
       "      <th></th>\n",
       "    </tr>\n",
       "  </thead>\n",
       "  <tbody>\n",
       "    <tr>\n",
       "      <th>v Pakistan</th>\n",
       "      <td>4</td>\n",
       "      <td>22</td>\n",
       "      <td>5.500000</td>\n",
       "    </tr>\n",
       "    <tr>\n",
       "      <th>v Netherlands</th>\n",
       "      <td>1</td>\n",
       "      <td>12</td>\n",
       "      <td>12.000000</td>\n",
       "    </tr>\n",
       "    <tr>\n",
       "      <th>v Ireland</th>\n",
       "      <td>1</td>\n",
       "      <td>34</td>\n",
       "      <td>34.000000</td>\n",
       "    </tr>\n",
       "    <tr>\n",
       "      <th>v South Africa</th>\n",
       "      <td>15</td>\n",
       "      <td>558</td>\n",
       "      <td>37.200000</td>\n",
       "    </tr>\n",
       "    <tr>\n",
       "      <th>v England</th>\n",
       "      <td>21</td>\n",
       "      <td>830</td>\n",
       "      <td>39.523810</td>\n",
       "    </tr>\n",
       "    <tr>\n",
       "      <th>v Zimbabwe</th>\n",
       "      <td>5</td>\n",
       "      <td>215</td>\n",
       "      <td>43.000000</td>\n",
       "    </tr>\n",
       "    <tr>\n",
       "      <th>v Sri Lanka</th>\n",
       "      <td>24</td>\n",
       "      <td>1084</td>\n",
       "      <td>45.166667</td>\n",
       "    </tr>\n",
       "    <tr>\n",
       "      <th>v Australia</th>\n",
       "      <td>20</td>\n",
       "      <td>999</td>\n",
       "      <td>49.950000</td>\n",
       "    </tr>\n",
       "    <tr>\n",
       "      <th>v West Indies</th>\n",
       "      <td>19</td>\n",
       "      <td>1009</td>\n",
       "      <td>53.105263</td>\n",
       "    </tr>\n",
       "    <tr>\n",
       "      <th>v New Zealand</th>\n",
       "      <td>14</td>\n",
       "      <td>877</td>\n",
       "      <td>62.642857</td>\n",
       "    </tr>\n",
       "    <tr>\n",
       "      <th>v Bangladesh</th>\n",
       "      <td>8</td>\n",
       "      <td>544</td>\n",
       "      <td>68.000000</td>\n",
       "    </tr>\n",
       "  </tbody>\n",
       "</table>\n",
       "</div>"
      ],
      "text/plain": [
       "                count   sum       mean\n",
       "Opposition                            \n",
       "v Pakistan          4    22   5.500000\n",
       "v Netherlands       1    12  12.000000\n",
       "v Ireland           1    34  34.000000\n",
       "v South Africa     15   558  37.200000\n",
       "v England          21   830  39.523810\n",
       "v Zimbabwe          5   215  43.000000\n",
       "v Sri Lanka        24  1084  45.166667\n",
       "v Australia        20   999  49.950000\n",
       "v West Indies      19  1009  53.105263\n",
       "v New Zealand      14   877  62.642857\n",
       "v Bangladesh        8   544  68.000000"
      ]
     },
     "execution_count": 154,
     "metadata": {},
     "output_type": "execute_result"
    }
   ],
   "source": [
    "# BEST PERFORMANCE WAS AGT WHOM \n",
    "# WORST PERFORMANCE WAS AGT WHOM.\n",
    "# COMPETITOR WISE PERFORMACE\n",
    "\n",
    "df[\"Runs\"].groupby(df[\"Opposition\"]).aggregate([\"count\",\"sum\" ,\"mean\"]).sort_values(\"mean\")"
   ]
  },
  {
   "cell_type": "code",
   "execution_count": 190,
   "id": "437f1d98",
   "metadata": {},
   "outputs": [
    {
     "data": {
      "text/html": [
       "<div>\n",
       "<style scoped>\n",
       "    .dataframe tbody tr th:only-of-type {\n",
       "        vertical-align: middle;\n",
       "    }\n",
       "\n",
       "    .dataframe tbody tr th {\n",
       "        vertical-align: top;\n",
       "    }\n",
       "\n",
       "    .dataframe thead th {\n",
       "        text-align: right;\n",
       "    }\n",
       "</style>\n",
       "<table border=\"1\" class=\"dataframe\">\n",
       "  <thead>\n",
       "    <tr style=\"text-align: right;\">\n",
       "      <th></th>\n",
       "      <th>count</th>\n",
       "      <th>sum</th>\n",
       "      <th>mean</th>\n",
       "    </tr>\n",
       "    <tr>\n",
       "      <th>Ground</th>\n",
       "      <th></th>\n",
       "      <th></th>\n",
       "      <th></th>\n",
       "    </tr>\n",
       "  </thead>\n",
       "  <tbody>\n",
       "    <tr>\n",
       "      <th>Fatullah</th>\n",
       "      <td>1</td>\n",
       "      <td>136</td>\n",
       "      <td>136.00</td>\n",
       "    </tr>\n",
       "    <tr>\n",
       "      <th>Napier</th>\n",
       "      <td>1</td>\n",
       "      <td>123</td>\n",
       "      <td>123.00</td>\n",
       "    </tr>\n",
       "    <tr>\n",
       "      <th>Canberra</th>\n",
       "      <td>1</td>\n",
       "      <td>106</td>\n",
       "      <td>106.00</td>\n",
       "    </tr>\n",
       "    <tr>\n",
       "      <th>Guwahati</th>\n",
       "      <td>1</td>\n",
       "      <td>105</td>\n",
       "      <td>105.00</td>\n",
       "    </tr>\n",
       "    <tr>\n",
       "      <th>Visakhapatnam</th>\n",
       "      <td>4</td>\n",
       "      <td>399</td>\n",
       "      <td>99.75</td>\n",
       "    </tr>\n",
       "  </tbody>\n",
       "</table>\n",
       "</div>"
      ],
      "text/plain": [
       "               count  sum    mean\n",
       "Ground                           \n",
       "Fatullah           1  136  136.00\n",
       "Napier             1  123  123.00\n",
       "Canberra           1  106  106.00\n",
       "Guwahati           1  105  105.00\n",
       "Visakhapatnam      4  399   99.75"
      ]
     },
     "execution_count": 190,
     "metadata": {},
     "output_type": "execute_result"
    }
   ],
   "source": [
    "# GROUND WISE BEST PERFORMANCE \n",
    "df[\"Runs\"].groupby(df[\"Ground\"]).aggregate([\"count\",\"sum\" ,\"mean\"]).sort_values(\"mean\",ascending=False).head()"
   ]
  },
  {
   "cell_type": "code",
   "execution_count": 191,
   "id": "0bcf76e2",
   "metadata": {},
   "outputs": [
    {
     "data": {
      "text/html": [
       "<div>\n",
       "<style scoped>\n",
       "    .dataframe tbody tr th:only-of-type {\n",
       "        vertical-align: middle;\n",
       "    }\n",
       "\n",
       "    .dataframe tbody tr th {\n",
       "        vertical-align: top;\n",
       "    }\n",
       "\n",
       "    .dataframe thead th {\n",
       "        text-align: right;\n",
       "    }\n",
       "</style>\n",
       "<table border=\"1\" class=\"dataframe\">\n",
       "  <thead>\n",
       "    <tr style=\"text-align: right;\">\n",
       "      <th></th>\n",
       "      <th>count</th>\n",
       "      <th>sum</th>\n",
       "      <th>mean</th>\n",
       "    </tr>\n",
       "    <tr>\n",
       "      <th>Ground</th>\n",
       "      <th></th>\n",
       "      <th></th>\n",
       "      <th></th>\n",
       "    </tr>\n",
       "  </thead>\n",
       "  <tbody>\n",
       "    <tr>\n",
       "      <th>Bulawayo</th>\n",
       "      <td>1</td>\n",
       "      <td>0</td>\n",
       "      <td>0.0</td>\n",
       "    </tr>\n",
       "    <tr>\n",
       "      <th>Centurion</th>\n",
       "      <td>1</td>\n",
       "      <td>2</td>\n",
       "      <td>2.0</td>\n",
       "    </tr>\n",
       "    <tr>\n",
       "      <th>The Oval</th>\n",
       "      <td>1</td>\n",
       "      <td>7</td>\n",
       "      <td>7.0</td>\n",
       "    </tr>\n",
       "    <tr>\n",
       "      <th>Southampton</th>\n",
       "      <td>1</td>\n",
       "      <td>9</td>\n",
       "      <td>9.0</td>\n",
       "    </tr>\n",
       "    <tr>\n",
       "      <th>Sydney</th>\n",
       "      <td>3</td>\n",
       "      <td>30</td>\n",
       "      <td>10.0</td>\n",
       "    </tr>\n",
       "  </tbody>\n",
       "</table>\n",
       "</div>"
      ],
      "text/plain": [
       "             count  sum  mean\n",
       "Ground                       \n",
       "Bulawayo         1    0   0.0\n",
       "Centurion        1    2   2.0\n",
       "The Oval         1    7   7.0\n",
       "Southampton      1    9   9.0\n",
       "Sydney           3   30  10.0"
      ]
     },
     "execution_count": 191,
     "metadata": {},
     "output_type": "execute_result"
    }
   ],
   "source": [
    "# GROUND WISE WORST PERFORMANCE \n",
    "df[\"Runs\"].groupby(df[\"Ground\"]).aggregate([\"count\",\"sum\" ,\"mean\"]).sort_values(\"mean\").head()"
   ]
  },
  {
   "cell_type": "code",
   "execution_count": 155,
   "id": "0a7e7ca5",
   "metadata": {},
   "outputs": [
    {
     "data": {
      "image/png": "[encoded data removed]",
      "text/plain": [
       "<Figure size 1440x504 with 2 Axes>"
      ]
     },
     "metadata": {
      "needs_background": "light"
     },
     "output_type": "display_data"
    }
   ],
   "source": [
    "# WHAT IS THE SPREAD OF HIS RUNS\n",
    "spreadgraph(\"Runs\")"
   ]
  },
  {
   "cell_type": "code",
   "execution_count": 156,
   "id": "1db96bc0",
   "metadata": {},
   "outputs": [
    {
     "data": {
      "text/plain": [
       "count    132.000000\n",
       "mean      46.848485\n",
       "std       41.994635\n",
       "min        0.000000\n",
       "25%       10.000000\n",
       "50%       32.500000\n",
       "75%       80.250000\n",
       "max      154.000000\n",
       "Name: Runs, dtype: float64"
      ]
     },
     "execution_count": 156,
     "metadata": {},
     "output_type": "execute_result"
    }
   ],
   "source": [
    "df.Runs.describe()"
   ]
  },
  {
   "cell_type": "code",
   "execution_count": null,
   "id": "c5d0899b",
   "metadata": {},
   "outputs": [],
   "source": [
    "# Right skewed data\n",
    "# there are no outliers"
   ]
  },
  {
   "cell_type": "code",
   "execution_count": 179,
   "id": "667dc4ad",
   "metadata": {},
   "outputs": [
    {
     "data": {
      "text/plain": [
       "Dismissal   Dismissal \n",
       "bowled      bowled        10\n",
       "caught      caught        84\n",
       "hit wicket  hit wicket     1\n",
       "lbw         lbw            9\n",
       "not out     not out       17\n",
       "run out     run out       10\n",
       "stumped     stumped        1\n",
       "Name: Dismissal, dtype: int64"
      ]
     },
     "execution_count": 179,
     "metadata": {},
     "output_type": "execute_result"
    }
   ],
   "source": [
    "# COUNT OF DIFFERENT DISMISSALS\n",
    "df[\"Dismissal\"].groupby(df[\"Dismissal\"]).value_counts()"
   ]
  },
  {
   "cell_type": "code",
   "execution_count": 180,
   "id": "ba080041",
   "metadata": {},
   "outputs": [
    {
     "data": {
      "image/png": "[encoded data removed]",
      "text/plain": [
       "<Figure size 504x288 with 1 Axes>"
      ]
     },
     "metadata": {
      "needs_background": "light"
     },
     "output_type": "display_data"
    }
   ],
   "source": [
    "bargraph(\"Dismissal\")"
   ]
  },
  {
   "cell_type": "code",
   "execution_count": 182,
   "id": "a253f63a",
   "metadata": {},
   "outputs": [
    {
     "name": "stdout",
     "output_type": "stream",
     "text": [
      "The correlation between Runs scored and Time spent at crease is : \n",
      "  [1.         0.94748835]\n"
     ]
    }
   ],
   "source": [
    "# IS THERE A CORRELATION BETWEEN TIME SPENT AT CREASE AND RUNS\n",
    "# using pearsons correlation coefficient\n",
    "x=df.Mins\n",
    "y=df.Runs\n",
    "\n",
    "correlation = np.corrcoef(x, y)[0]\n",
    "#print the result\n",
    "print(\"The correlation between Runs scored and Time spent at crease is : \\n \",correlation)"
   ]
  },
  {
   "cell_type": "code",
   "execution_count": 184,
   "id": "846ff9b8",
   "metadata": {},
   "outputs": [
    {
     "name": "stdout",
     "output_type": "stream",
     "text": [
      "The correlation between Time spent at crease and Balls Faced is : \n",
      "  [1.         0.97750622]\n"
     ]
    }
   ],
   "source": [
    "# IS THERE A CORRELATION BETWEEN TIME SPENT AT CREASE AND Balls Faced\n",
    "# using pearsons correlation coefficient\n",
    "x=df.Mins\n",
    "y=df.BF\n",
    "\n",
    "correlation = np.corrcoef(x, y)[0]\n",
    "#print the result\n",
    "print(\"The correlation between Time spent at crease and Balls Faced is : \\n \",correlation)"
   ]
  },
  {
   "cell_type": "code",
   "execution_count": 185,
   "id": "f3d879bf",
   "metadata": {},
   "outputs": [
    {
     "name": "stdout",
     "output_type": "stream",
     "text": [
      "The correlation between Runs scored and Balls Faced is : \n",
      "  [1.         0.96163938]\n"
     ]
    }
   ],
   "source": [
    "# IS THERE A CORRELATION BETWEEN runs scored AND Balls Faced\n",
    "x=df.Runs\n",
    "y=df.BF\n",
    "\n",
    "correlation = np.corrcoef(x, y)[0]\n",
    "#print the result\n",
    "print(\"The correlation between Runs scored and Balls Faced is : \\n \",correlation)"
   ]
  },
  {
   "cell_type": "code",
   "execution_count": 249,
   "id": "4af8685d",
   "metadata": {},
   "outputs": [],
   "source": [
    "sixes=df[df[\"6s\"]>0]"
   ]
  },
  {
   "cell_type": "code",
   "execution_count": 256,
   "id": "f64aaa7f",
   "metadata": {},
   "outputs": [],
   "source": [
    "no_of_6=df[\"6s\"][df[\"6s\"]>0].count()# in 41 matches we find he has hit 6s out of 131 matches"
   ]
  },
  {
   "cell_type": "code",
   "execution_count": 257,
   "id": "d609b50a",
   "metadata": {},
   "outputs": [
    {
     "data": {
      "text/plain": [
       "41"
      ]
     },
     "execution_count": 257,
     "metadata": {},
     "output_type": "execute_result"
    }
   ],
   "source": [
    "no_of_6"
   ]
  },
  {
   "cell_type": "code",
   "execution_count": 251,
   "id": "29abbcc5",
   "metadata": {},
   "outputs": [
    {
     "data": {
      "text/plain": [
       "caught        25\n",
       "not out       11\n",
       "lbw            2\n",
       "hit wicket     1\n",
       "bowled         1\n",
       "run out        1\n",
       "Name: Dismissal, dtype: int64"
      ]
     },
     "execution_count": 251,
     "metadata": {},
     "output_type": "execute_result"
    }
   ],
   "source": [
    "sixes[\"Dismissal\"].value_counts()"
   ]
  },
  {
   "cell_type": "code",
   "execution_count": 254,
   "id": "3f977f37",
   "metadata": {},
   "outputs": [
    {
     "data": {
      "text/plain": [
       "v New Zealand     8\n",
       "v Sri Lanka       6\n",
       "v Australia       6\n",
       "v England         6\n",
       "v South Africa    5\n",
       "v West Indies     5\n",
       "v Bangladesh      3\n",
       "v Zimbabwe        2\n",
       "Name: Opposition, dtype: int64"
      ]
     },
     "execution_count": 254,
     "metadata": {},
     "output_type": "execute_result"
    }
   ],
   "source": [
    "sixes[\"Opposition\"].value_counts()"
   ]
  },
  {
   "cell_type": "code",
   "execution_count": 255,
   "id": "53d49495",
   "metadata": {},
   "outputs": [
    {
     "data": {
      "text/plain": [
       "3    34\n",
       "4     6\n",
       "1     1\n",
       "Name: Pos, dtype: int64"
      ]
     },
     "execution_count": 255,
     "metadata": {},
     "output_type": "execute_result"
    }
   ],
   "source": [
    "sixes[\"Pos\"].value_counts()"
   ]
  },
  {
   "cell_type": "code",
   "execution_count": 252,
   "id": "6cec7de2",
   "metadata": {},
   "outputs": [],
   "source": [
    "fours=df[df[\"4s\"]>0]"
   ]
  },
  {
   "cell_type": "code",
   "execution_count": 253,
   "id": "6a5e0151",
   "metadata": {},
   "outputs": [
    {
     "data": {
      "text/plain": [
       "caught        61\n",
       "not out       15\n",
       "lbw            8\n",
       "run out        7\n",
       "bowled         7\n",
       "stumped        1\n",
       "hit wicket     1\n",
       "Name: Dismissal, dtype: int64"
      ]
     },
     "execution_count": 253,
     "metadata": {},
     "output_type": "execute_result"
    }
   ],
   "source": [
    "fours[\"Dismissal\"].value_counts()"
   ]
  },
  {
   "cell_type": "code",
   "execution_count": null,
   "id": "4a94efa1",
   "metadata": {},
   "outputs": [],
   "source": [
    "# MOST OF THE DISMISSAL IS AS CAUGHT LETS ANALYSE WHY IS HE GETTING CAUGHT"
   ]
  },
  {
   "cell_type": "code",
   "execution_count": 193,
   "id": "305f5ee7",
   "metadata": {},
   "outputs": [],
   "source": [
    "v_caught=df[df.Dismissal ==\"caught\"]"
   ]
  },
  {
   "cell_type": "code",
   "execution_count": 194,
   "id": "499287c7",
   "metadata": {},
   "outputs": [
    {
     "data": {
      "text/html": [
       "<div>\n",
       "<style scoped>\n",
       "    .dataframe tbody tr th:only-of-type {\n",
       "        vertical-align: middle;\n",
       "    }\n",
       "\n",
       "    .dataframe tbody tr th {\n",
       "        vertical-align: top;\n",
       "    }\n",
       "\n",
       "    .dataframe thead th {\n",
       "        text-align: right;\n",
       "    }\n",
       "</style>\n",
       "<table border=\"1\" class=\"dataframe\">\n",
       "  <thead>\n",
       "    <tr style=\"text-align: right;\">\n",
       "      <th></th>\n",
       "      <th>Runs</th>\n",
       "      <th>Mins</th>\n",
       "      <th>BF</th>\n",
       "      <th>4s</th>\n",
       "      <th>6s</th>\n",
       "      <th>SR</th>\n",
       "      <th>Pos</th>\n",
       "      <th>Dismissal</th>\n",
       "      <th>Inns</th>\n",
       "      <th>Opposition</th>\n",
       "      <th>Ground</th>\n",
       "      <th>Start Date</th>\n",
       "    </tr>\n",
       "  </thead>\n",
       "  <tbody>\n",
       "    <tr>\n",
       "      <th>1</th>\n",
       "      <td>37</td>\n",
       "      <td>82.0</td>\n",
       "      <td>67</td>\n",
       "      <td>6</td>\n",
       "      <td>0</td>\n",
       "      <td>55.22</td>\n",
       "      <td>2</td>\n",
       "      <td>caught</td>\n",
       "      <td>2</td>\n",
       "      <td>v Sri Lanka</td>\n",
       "      <td>Dambulla</td>\n",
       "      <td>20-Aug-08</td>\n",
       "    </tr>\n",
       "    <tr>\n",
       "      <th>6</th>\n",
       "      <td>30</td>\n",
       "      <td>53.0</td>\n",
       "      <td>41</td>\n",
       "      <td>3</td>\n",
       "      <td>0</td>\n",
       "      <td>73.17</td>\n",
       "      <td>4</td>\n",
       "      <td>caught</td>\n",
       "      <td>2</td>\n",
       "      <td>v Australia</td>\n",
       "      <td>Vadodara</td>\n",
       "      <td>25-Oct-09</td>\n",
       "    </tr>\n",
       "    <tr>\n",
       "      <th>7</th>\n",
       "      <td>10</td>\n",
       "      <td>32.0</td>\n",
       "      <td>16</td>\n",
       "      <td>1</td>\n",
       "      <td>0</td>\n",
       "      <td>62.50</td>\n",
       "      <td>3</td>\n",
       "      <td>caught</td>\n",
       "      <td>2</td>\n",
       "      <td>v Australia</td>\n",
       "      <td>Mohali</td>\n",
       "      <td>2-Nov-09</td>\n",
       "    </tr>\n",
       "    <tr>\n",
       "      <th>10</th>\n",
       "      <td>107</td>\n",
       "      <td>133.5</td>\n",
       "      <td>114</td>\n",
       "      <td>11</td>\n",
       "      <td>1</td>\n",
       "      <td>93.86</td>\n",
       "      <td>4</td>\n",
       "      <td>caught</td>\n",
       "      <td>2</td>\n",
       "      <td>v Sri Lanka</td>\n",
       "      <td>Kolkata</td>\n",
       "      <td>24-Dec-09</td>\n",
       "    </tr>\n",
       "    <tr>\n",
       "      <th>11</th>\n",
       "      <td>91</td>\n",
       "      <td>136.0</td>\n",
       "      <td>102</td>\n",
       "      <td>7</td>\n",
       "      <td>0</td>\n",
       "      <td>89.22</td>\n",
       "      <td>3</td>\n",
       "      <td>caught</td>\n",
       "      <td>2</td>\n",
       "      <td>v Bangladesh</td>\n",
       "      <td>Dhaka</td>\n",
       "      <td>7-Jan-10</td>\n",
       "    </tr>\n",
       "    <tr>\n",
       "      <th>...</th>\n",
       "      <td>...</td>\n",
       "      <td>...</td>\n",
       "      <td>...</td>\n",
       "      <td>...</td>\n",
       "      <td>...</td>\n",
       "      <td>...</td>\n",
       "      <td>...</td>\n",
       "      <td>...</td>\n",
       "      <td>...</td>\n",
       "      <td>...</td>\n",
       "      <td>...</td>\n",
       "      <td>...</td>\n",
       "    </tr>\n",
       "    <tr>\n",
       "      <th>127</th>\n",
       "      <td>45</td>\n",
       "      <td>64.0</td>\n",
       "      <td>51</td>\n",
       "      <td>2</td>\n",
       "      <td>1</td>\n",
       "      <td>88.24</td>\n",
       "      <td>3</td>\n",
       "      <td>caught</td>\n",
       "      <td>2</td>\n",
       "      <td>v New Zealand</td>\n",
       "      <td>Ranchi</td>\n",
       "      <td>26-Oct-16</td>\n",
       "    </tr>\n",
       "    <tr>\n",
       "      <th>128</th>\n",
       "      <td>65</td>\n",
       "      <td>152.0</td>\n",
       "      <td>76</td>\n",
       "      <td>2</td>\n",
       "      <td>1</td>\n",
       "      <td>85.53</td>\n",
       "      <td>3</td>\n",
       "      <td>caught</td>\n",
       "      <td>1</td>\n",
       "      <td>v New Zealand</td>\n",
       "      <td>Visakhapatnam</td>\n",
       "      <td>29-Oct-16</td>\n",
       "    </tr>\n",
       "    <tr>\n",
       "      <th>129</th>\n",
       "      <td>122</td>\n",
       "      <td>147.0</td>\n",
       "      <td>105</td>\n",
       "      <td>8</td>\n",
       "      <td>5</td>\n",
       "      <td>116.19</td>\n",
       "      <td>3</td>\n",
       "      <td>caught</td>\n",
       "      <td>2</td>\n",
       "      <td>v England</td>\n",
       "      <td>Pune</td>\n",
       "      <td>15-Jan-17</td>\n",
       "    </tr>\n",
       "    <tr>\n",
       "      <th>130</th>\n",
       "      <td>8</td>\n",
       "      <td>6.0</td>\n",
       "      <td>5</td>\n",
       "      <td>2</td>\n",
       "      <td>0</td>\n",
       "      <td>160.00</td>\n",
       "      <td>3</td>\n",
       "      <td>caught</td>\n",
       "      <td>1</td>\n",
       "      <td>v England</td>\n",
       "      <td>Cuttack</td>\n",
       "      <td>19-Jan-17</td>\n",
       "    </tr>\n",
       "    <tr>\n",
       "      <th>131</th>\n",
       "      <td>55</td>\n",
       "      <td>81.0</td>\n",
       "      <td>63</td>\n",
       "      <td>8</td>\n",
       "      <td>0</td>\n",
       "      <td>87.30</td>\n",
       "      <td>3</td>\n",
       "      <td>caught</td>\n",
       "      <td>2</td>\n",
       "      <td>v England</td>\n",
       "      <td>Kolkata</td>\n",
       "      <td>22-Jan-17</td>\n",
       "    </tr>\n",
       "  </tbody>\n",
       "</table>\n",
       "<p>84 rows × 12 columns</p>\n",
       "</div>"
      ],
      "text/plain": [
       "     Runs   Mins   BF  4s  6s      SR  Pos Dismissal  Inns     Opposition  \\\n",
       "1      37   82.0   67   6   0   55.22    2    caught     2    v Sri Lanka   \n",
       "6      30   53.0   41   3   0   73.17    4    caught     2    v Australia   \n",
       "7      10   32.0   16   1   0   62.50    3    caught     2    v Australia   \n",
       "10    107  133.5  114  11   1   93.86    4    caught     2    v Sri Lanka   \n",
       "11     91  136.0  102   7   0   89.22    3    caught     2   v Bangladesh   \n",
       "..    ...    ...  ...  ..  ..     ...  ...       ...   ...            ...   \n",
       "127    45   64.0   51   2   1   88.24    3    caught     2  v New Zealand   \n",
       "128    65  152.0   76   2   1   85.53    3    caught     1  v New Zealand   \n",
       "129   122  147.0  105   8   5  116.19    3    caught     2      v England   \n",
       "130     8    6.0    5   2   0  160.00    3    caught     1      v England   \n",
       "131    55   81.0   63   8   0   87.30    3    caught     2      v England   \n",
       "\n",
       "            Ground Start Date  \n",
       "1         Dambulla  20-Aug-08  \n",
       "6         Vadodara  25-Oct-09  \n",
       "7           Mohali   2-Nov-09  \n",
       "10         Kolkata  24-Dec-09  \n",
       "11           Dhaka   7-Jan-10  \n",
       "..             ...        ...  \n",
       "127         Ranchi  26-Oct-16  \n",
       "128  Visakhapatnam  29-Oct-16  \n",
       "129           Pune  15-Jan-17  \n",
       "130        Cuttack  19-Jan-17  \n",
       "131        Kolkata  22-Jan-17  \n",
       "\n",
       "[84 rows x 12 columns]"
      ]
     },
     "execution_count": 194,
     "metadata": {},
     "output_type": "execute_result"
    }
   ],
   "source": [
    "v_caught"
   ]
  },
  {
   "cell_type": "code",
   "execution_count": 195,
   "id": "286f5227",
   "metadata": {},
   "outputs": [
    {
     "data": {
      "text/plain": [
       "2    52\n",
       "1    32\n",
       "Name: Inns, dtype: int64"
      ]
     },
     "execution_count": 195,
     "metadata": {},
     "output_type": "execute_result"
    }
   ],
   "source": [
    "v_caught[\"Inns\"].value_counts()"
   ]
  },
  {
   "cell_type": "code",
   "execution_count": 196,
   "id": "694797f0",
   "metadata": {},
   "outputs": [
    {
     "data": {
      "text/plain": [
       "84"
      ]
     },
     "execution_count": 196,
     "metadata": {},
     "output_type": "execute_result"
    }
   ],
   "source": [
    "v_caught.shape[0]"
   ]
  },
  {
   "cell_type": "code",
   "execution_count": 197,
   "id": "2dba07cf",
   "metadata": {},
   "outputs": [
    {
     "data": {
      "text/plain": [
       "v Australia       15\n",
       "v England         14\n",
       "v Sri Lanka       13\n",
       "v South Africa    12\n",
       "v New Zealand     11\n",
       "v West Indies     11\n",
       "v Zimbabwe         3\n",
       "v Pakistan         3\n",
       "v Bangladesh       2\n",
       "Name: Opposition, dtype: int64"
      ]
     },
     "execution_count": 197,
     "metadata": {},
     "output_type": "execute_result"
    }
   ],
   "source": [
    "v_caught[\"Opposition\"].value_counts()"
   ]
  },
  {
   "cell_type": "code",
   "execution_count": 199,
   "id": "4298bfef",
   "metadata": {},
   "outputs": [
    {
     "data": {
      "text/plain": [
       "3    63\n",
       "4    16\n",
       "2     2\n",
       "5     2\n",
       "7     1\n",
       "Name: Pos, dtype: int64"
      ]
     },
     "execution_count": 199,
     "metadata": {},
     "output_type": "execute_result"
    }
   ],
   "source": [
    "v_caught[\"Pos\"].value_counts()"
   ]
  },
  {
   "cell_type": "code",
   "execution_count": 200,
   "id": "3eba2b87",
   "metadata": {},
   "outputs": [],
   "source": [
    "df=v_caught"
   ]
  },
  {
   "cell_type": "code",
   "execution_count": 201,
   "id": "6ccd747d",
   "metadata": {},
   "outputs": [
    {
     "name": "stdout",
     "output_type": "stream",
     "text": [
      "The mean of the Runs is 42.05952380952381\n",
      "The median of the Runs is 30.5\n",
      "The mode of the Runs is 0\n",
      "The standard deviation of the Runs is 39.724154647029465\n",
      "Number of missing values in the Runs is 0\n",
      "Max values in the Runs is 138\n",
      "Min values in the Runs is 0\n"
     ]
    }
   ],
   "source": [
    "info_of_numerical(\"Runs\")"
   ]
  },
  {
   "cell_type": "code",
   "execution_count": 202,
   "id": "49045447",
   "metadata": {},
   "outputs": [
    {
     "data": {
      "image/png": "[encoded data removed]",
      "text/plain": [
       "<Figure size 1440x504 with 2 Axes>"
      ]
     },
     "metadata": {
      "needs_background": "light"
     },
     "output_type": "display_data"
    }
   ],
   "source": [
    "spreadgraph(\"Runs\")"
   ]
  },
  {
   "cell_type": "code",
   "execution_count": 203,
   "id": "facb5cfe",
   "metadata": {},
   "outputs": [
    {
     "name": "stdout",
     "output_type": "stream",
     "text": [
      "The mean of the Mins is 67.76527777777778\n",
      "The median of the Mins is 52.0\n",
      "The mode of the Mins is 11.0\n",
      "The standard deviation of the Mins is 56.436161480735095\n",
      "Number of missing values in the Mins is 0\n",
      "Max values in the Mins is 202.0\n",
      "Min values in the Mins is 1.0\n"
     ]
    }
   ],
   "source": [
    "info_of_numerical(\"Mins\")"
   ]
  },
  {
   "cell_type": "code",
   "execution_count": 204,
   "id": "f96367c8",
   "metadata": {},
   "outputs": [
    {
     "data": {
      "image/png": "[encoded data removed]",
      "text/plain": [
       "<Figure size 1440x504 with 2 Axes>"
      ]
     },
     "metadata": {
      "needs_background": "light"
     },
     "output_type": "display_data"
    }
   ],
   "source": [
    "spreadgraph(\"Mins\")"
   ]
  },
  {
   "cell_type": "code",
   "execution_count": 205,
   "id": "7418564d",
   "metadata": {},
   "outputs": [
    {
     "name": "stdout",
     "output_type": "stream",
     "text": [
      "The mean of the BF is 47.845238095238095\n",
      "The median of the BF is 34.5\n",
      "The mode of the BF is 5\n",
      "The standard deviation of the BF is 38.323132794325986\n",
      "Number of missing values in the BF is 0\n",
      "Max values in the BF is 140\n",
      "Min values in the BF is 1\n"
     ]
    }
   ],
   "source": [
    "info_of_numerical(\"BF\")"
   ]
  },
  {
   "cell_type": "code",
   "execution_count": 206,
   "id": "2b8aeb0a",
   "metadata": {},
   "outputs": [
    {
     "data": {
      "image/png": "[encoded data removed]",
      "text/plain": [
       "<Figure size 1440x504 with 2 Axes>"
      ]
     },
     "metadata": {
      "needs_background": "light"
     },
     "output_type": "display_data"
    }
   ],
   "source": [
    "spreadgraph(\"BF\")"
   ]
  },
  {
   "cell_type": "code",
   "execution_count": 268,
   "id": "70b453c3",
   "metadata": {},
   "outputs": [
    {
     "name": "stdout",
     "output_type": "stream",
     "text": [
      "probability he will hit a six: 31.0\n",
      "probability he will hit only 1 six: 18.0\n",
      "probability he will hit more than 1 six: 13.0\n",
      "probability he will hit a four: 76.0\n",
      "probability he will hit only 1 four: 12.0\n",
      "probability he will hit more than 1 four: 64.0\n",
      "probability he will hit a six and a four : 30.0\n",
      "probability he will hit a four and no six : 46.0\n",
      "probability he will make a century: 17.0\n",
      "probability he will make half century: 41.0\n",
      "probability he will make half century but not a century: 23.0\n"
     ]
    }
   ],
   "source": [
    "# considering the entire data\n",
    "# probability if he has hit a 4 then he will definitely hit a 6\n",
    "\n",
    "print(\"probability he will hit a six:\",np.round(df[\"6s\"][df[\"6s\"]>0].count()/df.shape[0],2)*100)\n",
    "print(\"probability he will hit only 1 six:\",np.round(df[\"6s\"][df[\"6s\"]==1].count()/df.shape[0],2)*100)\n",
    "print(\"probability he will hit more than 1 six:\",np.round(df[\"6s\"][df[\"6s\"]>1].count()/df.shape[0],2)*100)\n",
    "\n",
    "\n",
    "print(\"probability he will hit a four:\",np.round(df[\"4s\"][df[\"4s\"]>0].count()/df.shape[0],2)*100)\n",
    "print(\"probability he will hit only 1 four:\",np.round(df[\"4s\"][df[\"4s\"]==1].count()/df.shape[0],2)*100)\n",
    "print(\"probability he will hit more than 1 four:\",np.round(df[\"4s\"][df[\"4s\"]>1].count()/df.shape[0],2)*100)\n",
    "\n",
    "\n",
    "print(\"probability he will hit a six and a four :\",np.round(df[\"4s\"][(df[\"4s\"]>0)&(df[\"6s\"]>0)].count()/df.shape[0],2)*100)\n",
    "print(\"probability he will hit a four and no six :\",np.round(df[\"4s\"][(df[\"4s\"]>0)&(df[\"6s\"]==0)].count()/df.shape[0],2)*100)\n",
    "\n",
    "\n",
    "# probability that if he has made a half century then he definitely will make a century\n",
    "print(\"probability he will make a century:\",np.round(df[\"Runs\"][df[\"Runs\"]>99].count()/df.shape[0],2)*100)\n",
    "print(\"probability he will make half century:\",np.round(df[\"Runs\"][df[\"Runs\"]>49].count()/df.shape[0],2)*100)\n",
    "print(\"probability he will make half century but not a century:\",np.round(df[\"Runs\"][(df[\"Runs\"]>49)&(df[\"Runs\"]<99)].count()/df.shape[0],2)*100)\n",
    "\n"
   ]
  },
  {
   "cell_type": "code",
   "execution_count": 308,
   "id": "a34e34fc",
   "metadata": {},
   "outputs": [
    {
     "data": {
      "text/plain": [
       "array(['v Sri Lanka', 'v Australia', 'v Bangladesh', 'v South Africa',\n",
       "       'v Zimbabwe', 'v New Zealand', 'v Ireland', 'v Netherlands',\n",
       "       'v West Indies', 'v Pakistan', 'v England'], dtype=object)"
      ]
     },
     "execution_count": 308,
     "metadata": {},
     "output_type": "execute_result"
    }
   ],
   "source": [
    "# considering his game against opponents\n",
    "x=df[\"Opposition\"].unique()\n",
    "\n",
    "x"
   ]
  },
  {
   "cell_type": "code",
   "execution_count": 316,
   "id": "cb7c67e1",
   "metadata": {},
   "outputs": [],
   "source": [
    "# lets make a probability table\n",
    "detail=(\"Number of matches played \",\"probability he will hit a six:\",\n",
    "       \"probability he will hit only 1 six:\",\"probability he will hit more than 1 six:\",\n",
    "       \"probability he will hit a four:\",\"probability he will hit only 1 four:\",\"probability he will hit more than 1 four:\",\n",
    "\"probability he will hit a six and a four :\",\"probability he will hit a four and no six :\",\"probability he will make a century:\",\n",
    "       \"probability he will make half century:\",\"probability he will make half century but not a century:\")"
   ]
  },
  {
   "cell_type": "code",
   "execution_count": 317,
   "id": "9fda1c87",
   "metadata": {},
   "outputs": [],
   "source": [
    "prob_table=pd.DataFrame()"
   ]
  },
  {
   "cell_type": "code",
   "execution_count": 313,
   "id": "930f4834",
   "metadata": {},
   "outputs": [],
   "source": [
    "prob_table[\"Details\"]=detail"
   ]
  },
  {
   "cell_type": "code",
   "execution_count": 314,
   "id": "50f6e147",
   "metadata": {},
   "outputs": [],
   "source": [
    "for i in x:\n",
    "\n",
    "    \n",
    "    match=df[\"Opposition\"][df[\"Opposition\"]==i].count()\n",
    "\n",
    "    a=np.round(df[\"6s\"][(df[\"6s\"]>0) & (df[\"Opposition\"]==i)].count()/match,2)*100\n",
    "    b=np.round(df[\"6s\"][(df[\"6s\"]==1)& (df[\"Opposition\"]==i)].count()/match,2)*100\n",
    "    c=np.round(df[\"6s\"][(df[\"6s\"]>1)& (df[\"Opposition\"]==i)].count()/match,2)*100\n",
    "    d=np.round(df[\"4s\"][(df[\"4s\"]>0) & (df[\"Opposition\"]==i)].count()/match,2)*100\n",
    "    e=np.round(df[\"4s\"][(df[\"4s\"]==1) & (df[\"Opposition\"]==i)].count()/match,2)*100\n",
    "    s=np.round(df[\"4s\"][(df[\"4s\"]>1) & (df[\"Opposition\"]==i)].count()/match,2)*100\n",
    "    g=np.round(df[\"4s\"][(df[\"4s\"]>0)&(df[\"6s\"]>0)& (df[\"Opposition\"]==i)].count()/match,2)*100\n",
    "    h=np.round(df[\"4s\"][(df[\"4s\"]>0)&(df[\"6s\"]==0)& (df[\"Opposition\"]==i)].count()/match,2)*100\n",
    "    p=np.round(df[\"Runs\"][(df[\"Runs\"]>99)& (df[\"Opposition\"]==i)].count()/match,2)*100\n",
    "    q=np.round(df[\"Runs\"][(df[\"Runs\"]>49) & (df[\"Opposition\"]==i)].count()/match,2)*100\n",
    "    r=np.round(df[\"Runs\"][(df[\"Runs\"]>49)&(df[\"Runs\"]<99)& (df[\"Opposition\"]==i)].count()/match,2)*100\n",
    "    prob_table[i]=(match,a,b,c,d,e,s,g,h,p,q,r)"
   ]
  },
  {
   "cell_type": "code",
   "execution_count": 315,
   "id": "8f68ffac",
   "metadata": {},
   "outputs": [
    {
     "data": {
      "text/html": [
       "<div>\n",
       "<style scoped>\n",
       "    .dataframe tbody tr th:only-of-type {\n",
       "        vertical-align: middle;\n",
       "    }\n",
       "\n",
       "    .dataframe tbody tr th {\n",
       "        vertical-align: top;\n",
       "    }\n",
       "\n",
       "    .dataframe thead th {\n",
       "        text-align: right;\n",
       "    }\n",
       "</style>\n",
       "<table border=\"1\" class=\"dataframe\">\n",
       "  <thead>\n",
       "    <tr style=\"text-align: right;\">\n",
       "      <th></th>\n",
       "      <th>Details</th>\n",
       "      <th>v Sri Lanka</th>\n",
       "      <th>v Australia</th>\n",
       "      <th>v Bangladesh</th>\n",
       "      <th>v South Africa</th>\n",
       "      <th>v Zimbabwe</th>\n",
       "      <th>v New Zealand</th>\n",
       "      <th>v Ireland</th>\n",
       "      <th>v Netherlands</th>\n",
       "      <th>v West Indies</th>\n",
       "      <th>v Pakistan</th>\n",
       "      <th>v England</th>\n",
       "    </tr>\n",
       "  </thead>\n",
       "  <tbody>\n",
       "    <tr>\n",
       "      <th>0</th>\n",
       "      <td>Number of matches played</td>\n",
       "      <td>24.0</td>\n",
       "      <td>20.0</td>\n",
       "      <td>8.0</td>\n",
       "      <td>15.0</td>\n",
       "      <td>5.0</td>\n",
       "      <td>14.0</td>\n",
       "      <td>1.0</td>\n",
       "      <td>1.0</td>\n",
       "      <td>19.0</td>\n",
       "      <td>4.0</td>\n",
       "      <td>21.0</td>\n",
       "    </tr>\n",
       "    <tr>\n",
       "      <th>1</th>\n",
       "      <td>probability he will hit a six:</td>\n",
       "      <td>25.0</td>\n",
       "      <td>30.0</td>\n",
       "      <td>38.0</td>\n",
       "      <td>33.0</td>\n",
       "      <td>40.0</td>\n",
       "      <td>57.0</td>\n",
       "      <td>0.0</td>\n",
       "      <td>0.0</td>\n",
       "      <td>26.0</td>\n",
       "      <td>0.0</td>\n",
       "      <td>29.0</td>\n",
       "    </tr>\n",
       "    <tr>\n",
       "      <th>2</th>\n",
       "      <td>probability he will hit only 1 six:</td>\n",
       "      <td>17.0</td>\n",
       "      <td>20.0</td>\n",
       "      <td>12.0</td>\n",
       "      <td>20.0</td>\n",
       "      <td>40.0</td>\n",
       "      <td>29.0</td>\n",
       "      <td>0.0</td>\n",
       "      <td>0.0</td>\n",
       "      <td>11.0</td>\n",
       "      <td>0.0</td>\n",
       "      <td>19.0</td>\n",
       "    </tr>\n",
       "    <tr>\n",
       "      <th>3</th>\n",
       "      <td>probability he will hit more than 1 six:</td>\n",
       "      <td>8.0</td>\n",
       "      <td>10.0</td>\n",
       "      <td>25.0</td>\n",
       "      <td>13.0</td>\n",
       "      <td>0.0</td>\n",
       "      <td>29.0</td>\n",
       "      <td>0.0</td>\n",
       "      <td>0.0</td>\n",
       "      <td>16.0</td>\n",
       "      <td>0.0</td>\n",
       "      <td>10.0</td>\n",
       "    </tr>\n",
       "    <tr>\n",
       "      <th>4</th>\n",
       "      <td>probability he will hit a four:</td>\n",
       "      <td>88.0</td>\n",
       "      <td>80.0</td>\n",
       "      <td>88.0</td>\n",
       "      <td>60.0</td>\n",
       "      <td>80.0</td>\n",
       "      <td>79.0</td>\n",
       "      <td>100.0</td>\n",
       "      <td>100.0</td>\n",
       "      <td>74.0</td>\n",
       "      <td>50.0</td>\n",
       "      <td>67.0</td>\n",
       "    </tr>\n",
       "    <tr>\n",
       "      <th>5</th>\n",
       "      <td>probability he will hit only 1 four:</td>\n",
       "      <td>8.0</td>\n",
       "      <td>20.0</td>\n",
       "      <td>12.0</td>\n",
       "      <td>13.0</td>\n",
       "      <td>20.0</td>\n",
       "      <td>7.0</td>\n",
       "      <td>0.0</td>\n",
       "      <td>0.0</td>\n",
       "      <td>5.0</td>\n",
       "      <td>50.0</td>\n",
       "      <td>10.0</td>\n",
       "    </tr>\n",
       "    <tr>\n",
       "      <th>6</th>\n",
       "      <td>probability he will hit more than 1 four:</td>\n",
       "      <td>79.0</td>\n",
       "      <td>60.0</td>\n",
       "      <td>75.0</td>\n",
       "      <td>47.0</td>\n",
       "      <td>60.0</td>\n",
       "      <td>71.0</td>\n",
       "      <td>100.0</td>\n",
       "      <td>100.0</td>\n",
       "      <td>68.0</td>\n",
       "      <td>0.0</td>\n",
       "      <td>57.0</td>\n",
       "    </tr>\n",
       "    <tr>\n",
       "      <th>7</th>\n",
       "      <td>probability he will hit a six and a four :</td>\n",
       "      <td>25.0</td>\n",
       "      <td>30.0</td>\n",
       "      <td>38.0</td>\n",
       "      <td>27.0</td>\n",
       "      <td>40.0</td>\n",
       "      <td>57.0</td>\n",
       "      <td>0.0</td>\n",
       "      <td>0.0</td>\n",
       "      <td>21.0</td>\n",
       "      <td>0.0</td>\n",
       "      <td>29.0</td>\n",
       "    </tr>\n",
       "    <tr>\n",
       "      <th>8</th>\n",
       "      <td>probability he will hit a four and no six :</td>\n",
       "      <td>62.0</td>\n",
       "      <td>50.0</td>\n",
       "      <td>50.0</td>\n",
       "      <td>33.0</td>\n",
       "      <td>40.0</td>\n",
       "      <td>21.0</td>\n",
       "      <td>100.0</td>\n",
       "      <td>100.0</td>\n",
       "      <td>53.0</td>\n",
       "      <td>50.0</td>\n",
       "      <td>38.0</td>\n",
       "    </tr>\n",
       "    <tr>\n",
       "      <th>9</th>\n",
       "      <td>probability he will make a century:</td>\n",
       "      <td>17.0</td>\n",
       "      <td>25.0</td>\n",
       "      <td>38.0</td>\n",
       "      <td>7.0</td>\n",
       "      <td>20.0</td>\n",
       "      <td>21.0</td>\n",
       "      <td>0.0</td>\n",
       "      <td>0.0</td>\n",
       "      <td>16.0</td>\n",
       "      <td>0.0</td>\n",
       "      <td>14.0</td>\n",
       "    </tr>\n",
       "    <tr>\n",
       "      <th>10</th>\n",
       "      <td>probability he will make half century:</td>\n",
       "      <td>33.0</td>\n",
       "      <td>45.0</td>\n",
       "      <td>62.0</td>\n",
       "      <td>33.0</td>\n",
       "      <td>40.0</td>\n",
       "      <td>64.0</td>\n",
       "      <td>0.0</td>\n",
       "      <td>0.0</td>\n",
       "      <td>53.0</td>\n",
       "      <td>0.0</td>\n",
       "      <td>29.0</td>\n",
       "    </tr>\n",
       "    <tr>\n",
       "      <th>11</th>\n",
       "      <td>probability he will make half century but not ...</td>\n",
       "      <td>17.0</td>\n",
       "      <td>20.0</td>\n",
       "      <td>25.0</td>\n",
       "      <td>27.0</td>\n",
       "      <td>20.0</td>\n",
       "      <td>43.0</td>\n",
       "      <td>0.0</td>\n",
       "      <td>0.0</td>\n",
       "      <td>32.0</td>\n",
       "      <td>0.0</td>\n",
       "      <td>14.0</td>\n",
       "    </tr>\n",
       "  </tbody>\n",
       "</table>\n",
       "</div>"
      ],
      "text/plain": [
       "                                              Details  v Sri Lanka  \\\n",
       "0                           Number of matches played          24.0   \n",
       "1                      probability he will hit a six:         25.0   \n",
       "2                 probability he will hit only 1 six:         17.0   \n",
       "3            probability he will hit more than 1 six:          8.0   \n",
       "4                     probability he will hit a four:         88.0   \n",
       "5                probability he will hit only 1 four:          8.0   \n",
       "6           probability he will hit more than 1 four:         79.0   \n",
       "7          probability he will hit a six and a four :         25.0   \n",
       "8         probability he will hit a four and no six :         62.0   \n",
       "9                 probability he will make a century:         17.0   \n",
       "10             probability he will make half century:         33.0   \n",
       "11  probability he will make half century but not ...         17.0   \n",
       "\n",
       "    v Australia  v Bangladesh  v South Africa  v Zimbabwe  v New Zealand  \\\n",
       "0          20.0           8.0            15.0         5.0           14.0   \n",
       "1          30.0          38.0            33.0        40.0           57.0   \n",
       "2          20.0          12.0            20.0        40.0           29.0   \n",
       "3          10.0          25.0            13.0         0.0           29.0   \n",
       "4          80.0          88.0            60.0        80.0           79.0   \n",
       "5          20.0          12.0            13.0        20.0            7.0   \n",
       "6          60.0          75.0            47.0        60.0           71.0   \n",
       "7          30.0          38.0            27.0        40.0           57.0   \n",
       "8          50.0          50.0            33.0        40.0           21.0   \n",
       "9          25.0          38.0             7.0        20.0           21.0   \n",
       "10         45.0          62.0            33.0        40.0           64.0   \n",
       "11         20.0          25.0            27.0        20.0           43.0   \n",
       "\n",
       "    v Ireland  v Netherlands  v West Indies  v Pakistan  v England  \n",
       "0         1.0            1.0           19.0         4.0       21.0  \n",
       "1         0.0            0.0           26.0         0.0       29.0  \n",
       "2         0.0            0.0           11.0         0.0       19.0  \n",
       "3         0.0            0.0           16.0         0.0       10.0  \n",
       "4       100.0          100.0           74.0        50.0       67.0  \n",
       "5         0.0            0.0            5.0        50.0       10.0  \n",
       "6       100.0          100.0           68.0         0.0       57.0  \n",
       "7         0.0            0.0           21.0         0.0       29.0  \n",
       "8       100.0          100.0           53.0        50.0       38.0  \n",
       "9         0.0            0.0           16.0         0.0       14.0  \n",
       "10        0.0            0.0           53.0         0.0       29.0  \n",
       "11        0.0            0.0           32.0         0.0       14.0  "
      ]
     },
     "execution_count": 315,
     "metadata": {},
     "output_type": "execute_result"
    }
   ],
   "source": [
    "prob_table"
   ]
  },
  {
   "cell_type": "code",
   "execution_count": 321,
   "id": "6e362036",
   "metadata": {},
   "outputs": [],
   "source": [
    "# if he spends more than average time at crease what kind of dismissal do you see?\n",
    "\n",
    "avg=np.round(df[\"Mins\"].mean(),0)"
   ]
  },
  {
   "cell_type": "code",
   "execution_count": 336,
   "id": "87d670f4",
   "metadata": {},
   "outputs": [],
   "source": [
    "avg_time=df[df[\"Mins\"]>72]"
   ]
  },
  {
   "cell_type": "code",
   "execution_count": 337,
   "id": "b3715daa",
   "metadata": {},
   "outputs": [
    {
     "data": {
      "text/plain": [
       "caught        33\n",
       "not out       14\n",
       "run out        5\n",
       "bowled         4\n",
       "lbw            2\n",
       "hit wicket     1\n",
       "Name: Dismissal, dtype: int64"
      ]
     },
     "execution_count": 337,
     "metadata": {},
     "output_type": "execute_result"
    }
   ],
   "source": [
    "avg_time[\"Dismissal\"].value_counts() "
   ]
  },
  {
   "cell_type": "code",
   "execution_count": null,
   "id": "3ac25175",
   "metadata": {},
   "outputs": [],
   "source": [
    "# probability of his dismissal"
   ]
  },
  {
   "cell_type": "code",
   "execution_count": 332,
   "id": "ba42cc84",
   "metadata": {},
   "outputs": [],
   "source": [
    "tot=df[\"Mins\"][df[\"Mins\"]>72].count()# total 59 matches he stayed beyond his average time spent at crease"
   ]
  },
  {
   "cell_type": "code",
   "execution_count": 345,
   "id": "5a73e45b",
   "metadata": {},
   "outputs": [
    {
     "name": "stdout",
     "output_type": "stream",
     "text": [
      "Probability of getting caught if he stays beyond his average time at crease 56.0\n",
      "Probability of not getting out if he stays beyond his average time at crease 24.0\n",
      "Probability of getting run out if he stays beyond his average time at crease 8.0\n",
      "Probability of getting bowled if he stays beyond his average time at crease 7.0\n",
      "Probability of getting LBW if he stays beyond his average time at crease 3.0\n",
      "Probability of getting hit wicket if he stays beyond his average time at crease 2.0\n"
     ]
    }
   ],
   "source": [
    "print(\"Probability of getting caught if he stays beyond his average time at crease\",np.round((avg_time[\"Dismissal\"].value_counts()[0]/tot)*100,0))\n",
    "\n",
    "print(\"Probability of not getting out if he stays beyond his average time at crease\",np.round((avg_time[\"Dismissal\"].value_counts()[1]/tot)*100,0))\n",
    "\n",
    "print(\"Probability of getting run out if he stays beyond his average time at crease\",np.round((avg_time[\"Dismissal\"].value_counts()[2]/tot)*100,0))\n",
    "\n",
    "print(\"Probability of getting bowled if he stays beyond his average time at crease\",np.round((avg_time[\"Dismissal\"].value_counts()[3]/tot)*100,0))\n",
    "\n",
    "print(\"Probability of getting LBW if he stays beyond his average time at crease\",np.round((avg_time[\"Dismissal\"].value_counts()[4]/tot)*100,0))\n",
    "\n",
    "print(\"Probability of getting hit wicket if he stays beyond his average time at crease\",np.round((avg_time[\"Dismissal\"].value_counts()[5]/tot)*100,0))\n"
   ]
  },
  {
   "cell_type": "code",
   "execution_count": null,
   "id": "3ffad854",
   "metadata": {},
   "outputs": [],
   "source": []
  },
  {
   "cell_type": "code",
   "execution_count": 348,
   "id": "f49167cf",
   "metadata": {},
   "outputs": [],
   "source": [
    "avg_time=df[df[\"Mins\"]<72]"
   ]
  },
  {
   "cell_type": "code",
   "execution_count": 366,
   "id": "216bea5a",
   "metadata": {},
   "outputs": [
    {
     "data": {
      "text/plain": [
       "73"
      ]
     },
     "execution_count": 366,
     "metadata": {},
     "output_type": "execute_result"
    }
   ],
   "source": [
    "tot=avg_time[\"Mins\"].count()\n",
    "tot"
   ]
  },
  {
   "cell_type": "code",
   "execution_count": 350,
   "id": "78d7f6a9",
   "metadata": {},
   "outputs": [
    {
     "data": {
      "text/plain": [
       "caught     51\n",
       "lbw         7\n",
       "bowled      6\n",
       "run out     5\n",
       "not out     3\n",
       "stumped     1\n",
       "Name: Dismissal, dtype: int64"
      ]
     },
     "execution_count": 350,
     "metadata": {},
     "output_type": "execute_result"
    }
   ],
   "source": [
    "avg_time[\"Dismissal\"].value_counts()"
   ]
  },
  {
   "cell_type": "code",
   "execution_count": 353,
   "id": "7dd493bc",
   "metadata": {},
   "outputs": [
    {
     "name": "stdout",
     "output_type": "stream",
     "text": [
      "Probability of getting caught if he stays below his average time at crease 70.0\n",
      "Probability of getting LBW if he stays below his average time at crease 10.0\n",
      "Probability of getting bowled if he stays below his average time at crease 8.0\n",
      "Probability of getting runout if he stays below his average time at crease 7.0\n",
      "Probability of getting not out if he stays below his average time at crease 4.0\n",
      "Probability of getting stumped if he stays below his average time at crease 1.0\n"
     ]
    }
   ],
   "source": [
    "print(\"Probability of getting caught if he stays below his average time at crease\",np.round((avg_time[\"Dismissal\"].value_counts()[0]/tot)*100,0))\n",
    "\n",
    "print(\"Probability of getting LBW if he stays below his average time at crease\",np.round((avg_time[\"Dismissal\"].value_counts()[1]/tot)*100,0))\n",
    "\n",
    "print(\"Probability of getting bowled if he stays below his average time at crease\",np.round((avg_time[\"Dismissal\"].value_counts()[2]/tot)*100,0))\n",
    "\n",
    "print(\"Probability of getting runout if he stays below his average time at crease\",np.round((avg_time[\"Dismissal\"].value_counts()[3]/tot)*100,0))\n",
    "\n",
    "print(\"Probability of getting not out if he stays below his average time at crease\",np.round((avg_time[\"Dismissal\"].value_counts()[4]/tot)*100,0))\n",
    "\n",
    "print(\"Probability of getting stumped if he stays below his average time at crease\",np.round((avg_time[\"Dismissal\"].value_counts()[5]/tot)*100,0))\n"
   ]
  },
  {
   "cell_type": "code",
   "execution_count": null,
   "id": "90d63976",
   "metadata": {},
   "outputs": [],
   "source": []
  }
 ],
 "metadata": {
  "kernelspec": {
   "display_name": "Python 3 (ipykernel)",
   "language": "python",
   "name": "python3"
  },
  "language_info": {
   "codemirror_mode": {
    "name": "ipython",
    "version": 3
   },
   "file_extension": ".py",
   "mimetype": "text/x-python",
   "name": "python",
   "nbconvert_exporter": "python",
   "pygments_lexer": "ipython3",
   "version": "3.9.7"
  }
 },
 "nbformat": 4,
 "nbformat_minor": 5
}
